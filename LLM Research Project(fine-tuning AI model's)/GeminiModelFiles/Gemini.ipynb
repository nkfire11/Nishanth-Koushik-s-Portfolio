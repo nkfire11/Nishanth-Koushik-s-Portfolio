{
  "cells": [
    {
      "cell_type": "markdown",
      "metadata": {
        "colab_type": "text",
        "id": "view-in-github"
      },
      "source": [
        "<a href=\"https://colab.research.google.com/github/EpicGamer3386/LLM-Conversational-Acuity/blob/main/Gemini.ipynb\" target=\"_parent\"><img src=\"https://colab.research.google.com/assets/colab-badge.svg\" alt=\"Open In Colab\"/></a>"
      ]
    },
    {
      "cell_type": "code",
      "execution_count": 3,
      "metadata": {
        "id": "vq_Q5VJNK8t1"
      },
      "outputs": [],
      "source": [
        "import pathlib\n",
        "import textwrap\n",
        "import PIL.Image\n",
        "import google.generativeai as genai\n",
        "\n",
        "from IPython.display import display\n",
        "from IPython.display import Markdown\n",
        "\n",
        "\n",
        "def to_markdown(text):\n",
        "  text = text.replace('•', '  *')\n",
        "  return Markdown(textwrap.indent(text, '> ', predicate=lambda _: True))"
      ]
    },
    {
      "cell_type": "code",
      "execution_count": 4,
      "metadata": {
        "id": "xDIPV2GoLBlh"
      },
      "outputs": [],
      "source": [
        "# Or use `os.getenv('GOOGLE_API_KEY')` to fetch an environment variable.\n",
        "GOOGLE_API_KEY=\"REDACTED\"\n",
        "genai.configure(api_key=GOOGLE_API_KEY)\n",
        "\n",
        "model = genai.GenerativeModel('gemini-1.5-flash')\n"
      ]
    },
    {
      "cell_type": "code",
      "execution_count": 5,
      "metadata": {
        "colab": {
          "base_uri": "https://localhost:8080/",
          "height": 1000
        },
        "id": "btlgzhoILEVV",
        "outputId": "f5ec4959-bd81-488e-f6f4-932bc7ff53ef"
      },
      "outputs": [
        {
          "data": {
            "text/markdown": [
              "**👤 User:** Howdy there! Can ya tell me what the weather's like today?"
            ],
            "text/plain": [
              "<IPython.core.display.Markdown object>"
            ]
          },
          "metadata": {},
          "output_type": "display_data"
        },
        {
          "data": {
            "text/markdown": [
              "**🤖 LLM:** Howdy partner! I'm just a friendly AI, so I don't have access to real-time information like the weather. To get the latest weather forecast, I recommend checking a reliable weather app or website like:\n",
              "\n",
              "* **The Weather Channel**\n",
              "* **AccuWeather**\n",
              "* **National Weather Service** \n",
              "\n",
              "Just let me know your location and I can help you find the right website for your area.  🤠 \n"
            ],
            "text/plain": [
              "<IPython.core.display.Markdown object>"
            ]
          },
          "metadata": {},
          "output_type": "display_data"
        },
        {
          "data": {
            "text/markdown": [
              "**👤 User:** Well, I'll be! That sounds just perfect for a picnic. What do ya think I should pack?"
            ],
            "text/plain": [
              "<IPython.core.display.Markdown object>"
            ]
          },
          "metadata": {},
          "output_type": "display_data"
        },
        {
          "data": {
            "text/markdown": [
              "**🤖 LLM:** Well, now, a picnic is a mighty fine idea! Let's get you set up with some good ol' fashioned picnic grub:\n",
              "\n",
              "**Food:**\n",
              "\n",
              "* **Sandwiches:** Classic PB&J, ham and cheese, or maybe a fancy chicken salad with grapes? \n",
              "* **Salads:** Potato salad, pasta salad, or a light green salad with some yummy veggies.\n",
              "* **Fruit:** Apples, oranges, bananas, grapes, or a nice watermelon slice for a sweet treat.\n",
              "* **Snacks:** Crackers and cheese, chips and dip, or maybe some trail mix for a bit of energy.\n",
              "* **Drinks:** Lemonade, iced tea, or some cold water to keep you hydrated.\n",
              "\n",
              "**Extra Essentials:**\n",
              "\n",
              "* **Blanket or tablecloth:** To spread out on the ground.\n",
              "* **Basket or cooler:** To carry all your goodies.\n",
              "* **Napkins and utensils:** You don't want to be fingerin' your food!\n",
              "* **Bug spray:** Just in case there are any pesky critters.\n",
              "* **Sunblock:** To protect ya from the sun.\n",
              "\n",
              "Remember, the best part about a picnic is the company! So grab your best pal and head on out for a good time. Enjoy your picnic! 🤠 \n"
            ],
            "text/plain": [
              "<IPython.core.display.Markdown object>"
            ]
          },
          "metadata": {},
          "output_type": "display_data"
        },
        {
          "data": {
            "text/markdown": [
              "**👤 User:** Y'all got any good recipes for some sweet tea?"
            ],
            "text/plain": [
              "<IPython.core.display.Markdown object>"
            ]
          },
          "metadata": {},
          "output_type": "display_data"
        },
        {
          "data": {
            "text/markdown": [
              "**🤖 LLM:** You betcha! Here's a recipe for a good ol' fashioned sweet tea, perfect for a picnic:\n",
              "\n",
              "**Ingredients:**\n",
              "\n",
              "* 8 cups water\n",
              "* 4 tea bags (black tea, or your favorite blend)\n",
              "* 1 cup granulated sugar (or to taste)\n",
              "\n",
              "**Instructions:**\n",
              "\n",
              "1. **Boil the water:** Bring the water to a rolling boil in a large saucepan.\n",
              "2. **Steep the tea:** Remove the water from the heat and add the tea bags. Steep for 5 minutes, or until the tea has reached your desired strength.\n",
              "3. **Sweeten the tea:** Remove the tea bags and stir in the sugar until dissolved. \n",
              "4. **Cool and serve:** Let the tea cool completely. You can add ice to your glasses or pour it over a pitcher of ice.\n",
              "\n",
              "**Tips:**\n",
              "\n",
              "* **Fresh is best:** For the best flavor, use fresh water and high-quality tea bags.\n",
              "* **Sweeten to taste:** Some folks like their tea sweeter than others. Start with 1 cup of sugar and adjust to your liking.\n",
              "* **Chill it out:** Sweet tea is best served cold. Let it cool in the fridge for at least an hour.\n",
              "\n",
              "There you have it! Enjoy your refreshing sweet tea! 🤠 \n"
            ],
            "text/plain": [
              "<IPython.core.display.Markdown object>"
            ]
          },
          "metadata": {},
          "output_type": "display_data"
        },
        {
          "data": {
            "text/markdown": [
              "**👤 User:** Much obliged! Now, how 'bout some tips for keepin' cool in this here heat?"
            ],
            "text/plain": [
              "<IPython.core.display.Markdown object>"
            ]
          },
          "metadata": {},
          "output_type": "display_data"
        },
        {
          "data": {
            "text/markdown": [
              "**🤖 LLM:** Well, now, this heat sure can be a scorcher!  Here's some tips for staying cool and comfortable:\n",
              "\n",
              "**Hydration is key:**\n",
              "\n",
              "* **Drink plenty of fluids:** Water, juice, or even sports drinks are good choices. Avoid sugary drinks as they can actually dehydrate you.\n",
              "* **Carry a water bottle:** Keep it filled and with you at all times. \n",
              "* **Eat fruits and veggies:** They're naturally hydrating.\n",
              "\n",
              "**Stay cool and breezy:**\n",
              "\n",
              "* **Wear light-colored clothing:** Light colors reflect heat. \n",
              "* **Choose loose-fitting clothes:**  Let your skin breathe!\n",
              "* **Take cool showers or baths:** This will help lower your body temperature.\n",
              "* **Find some shade:**  Trees, umbrellas, or even a building wall can provide a welcome break from the sun.\n",
              "* **Use a fan:** Even a small fan can make a big difference.\n",
              "* **Cool down with a cold compress:**  Put a wet cloth or towel in the freezer and apply it to your forehead or neck. \n",
              "\n",
              "**Bonus tips:**\n",
              "\n",
              "* **Avoid strenuous activities during the hottest part of the day.**\n",
              "* **Take a break from the heat if you start to feel dizzy or lightheaded.**\n",
              "* **Don't forget about your furry friends! Make sure they have access to shade and fresh water.**\n",
              "\n",
              "Stay cool and enjoy the sunshine! 🤠 \n"
            ],
            "text/plain": [
              "<IPython.core.display.Markdown object>"
            ]
          },
          "metadata": {},
          "output_type": "display_data"
        },
        {
          "data": {
            "text/markdown": [
              "**👤 User:** Thanks a bunch! Y'all have a good one now, ya hear?"
            ],
            "text/plain": [
              "<IPython.core.display.Markdown object>"
            ]
          },
          "metadata": {},
          "output_type": "display_data"
        },
        {
          "data": {
            "text/markdown": [
              "**🤖 LLM:** You're most welcome, partner!  And you have a good one, too!  Remember to stay cool and enjoy the summer days.  🤠 \n"
            ],
            "text/plain": [
              "<IPython.core.display.Markdown object>"
            ]
          },
          "metadata": {},
          "output_type": "display_data"
        }
      ],
      "source": [
        "import IPython.display as display\n",
        "\n",
        "def visualize_chat(messages):\n",
        "    chat = model.start_chat(history=[])\n",
        "    for message in messages:\n",
        "        display.display(display.Markdown(f\"**👤 User:** {message}\"))\n",
        "        response = chat.send_message(message, stream=False)\n",
        "        display.display(display.Markdown(f\"**🤖 LLM:** {response.text}\"))\n",
        "\n",
        "messages = [\n",
        "    \"Howdy there! Can ya tell me what the weather's like today?\",\n",
        "    \"Well, I'll be! That sounds just perfect for a picnic. What do ya think I should pack?\",\n",
        "    \"Y'all got any good recipes for some sweet tea?\",\n",
        "    \"Much obliged! Now, how 'bout some tips for keepin' cool in this here heat?\",\n",
        "    \"Thanks a bunch! Y'all have a good one now, ya hear?\"\n",
        "]\n",
        "\n",
        "\n",
        "visualize_chat(messages)\n"
      ]
    },
    {
      "cell_type": "code",
      "execution_count": 6,
      "metadata": {
        "colab": {
          "base_uri": "https://localhost:8080/",
          "height": 231
        },
        "id": "n7CjbvzbLGLo",
        "outputId": "cda70b79-4d43-4bfb-faff-aa39615ea31a"
      },
      "outputs": [
        {
          "name": "stdout",
          "output_type": "stream",
          "text": [
            "models/gemini-1.0-pro-latest\n",
            "models/gemini-1.0-pro\n",
            "models/gemini-pro\n",
            "models/gemini-1.0-pro-001\n",
            "models/gemini-1.0-pro-vision-latest\n",
            "models/gemini-pro-vision\n",
            "models/gemini-1.5-pro-latest\n",
            "models/gemini-1.5-pro-001\n",
            "models/gemini-1.5-pro\n",
            "models/gemini-1.5-flash-latest\n",
            "models/gemini-1.5-flash-001\n",
            "models/gemini-1.5-flash\n"
          ]
        }
      ],
      "source": [
        "for m in genai.list_models():\n",
        "  if 'generateContent' in m.supported_generation_methods:\n",
        "    print(m.name)"
      ]
    },
    {
      "cell_type": "code",
      "execution_count": 7,
      "metadata": {
        "colab": {
          "base_uri": "https://localhost:8080/",
          "height": 35
        },
        "id": "VKDpfdUULH1e",
        "outputId": "d20a4cc3-b484-4f2f-88c6-88132010a42d"
      },
      "outputs": [
        {
          "name": "stdout",
          "output_type": "stream",
          "text": [
            "Execution time: 3.7032768726348877 seconds\n"
          ]
        }
      ],
      "source": [
        "import time\n",
        "start_time = time.time()\n",
        "response = model.generate_content(\"What is the meaning of life?\")\n",
        "end_time = time.time()\n",
        "print(f\"Execution time: {end_time - start_time} seconds\")"
      ]
    },
    {
      "cell_type": "code",
      "execution_count": 8,
      "metadata": {
        "colab": {
          "base_uri": "https://localhost:8080/",
          "height": 423
        },
        "id": "lpVd9d5MLKWI",
        "outputId": "b0234238-f8f1-46dd-b7e4-92ab64e43b52"
      },
      "outputs": [
        {
          "data": {
            "text/markdown": [
              "> The meaning of life is a question that has been pondered by philosophers and theologians for centuries, and there is no single, universally accepted answer. It is a deeply personal question that each individual must answer for themselves.\n",
              "> \n",
              "> However, here are some perspectives on the meaning of life:\n",
              "> \n",
              "> **Philosophical Perspectives:**\n",
              "> \n",
              "> * **Nihilism:**  Life has no inherent meaning, and existence is ultimately meaningless.\n",
              "> * **Existentialism:** Individuals create their own meaning through their choices and actions.\n",
              "> * **Absurdism:** Life is inherently absurd, and we must embrace this absurdity and find meaning in the face of it.\n",
              "> * **Hedonism:** The pursuit of pleasure and happiness is the primary goal of life.\n",
              "> * **Utilitarianism:** Actions are right if they promote the greatest happiness for the greatest number of people.\n",
              "> \n",
              "> **Religious Perspectives:**\n",
              "> \n",
              "> * **Christianity:**  The meaning of life is to know and love God and to live in accordance with his will.\n",
              "> * **Buddhism:** The goal of life is to attain enlightenment and escape the cycle of suffering (samsara).\n",
              "> * **Islam:** The purpose of life is to submit to the will of Allah and to live a life of worship and service.\n",
              "> \n",
              "> **Other Perspectives:**\n",
              "> \n",
              "> * **Meaning through relationships:**  Connecting with others and building meaningful relationships can provide a sense of purpose.\n",
              "> * **Meaning through creativity:**  Expressing oneself through art, music, writing, or other forms of creativity can be a source of meaning.\n",
              "> * **Meaning through service:**  Helping others and making a positive impact on the world can give life a sense of purpose.\n",
              "> \n",
              "> Ultimately, the meaning of life is what you make it. It is a journey of self-discovery, and there is no right or wrong answer. Explore different perspectives, find what resonates with you, and create your own meaning. \n"
            ],
            "text/plain": [
              "<IPython.core.display.Markdown object>"
            ]
          },
          "execution_count": 8,
          "metadata": {},
          "output_type": "execute_result"
        }
      ],
      "source": [
        "to_markdown(response.text)"
      ]
    },
    {
      "cell_type": "code",
      "execution_count": 9,
      "metadata": {
        "colab": {
          "base_uri": "https://localhost:8080/"
        },
        "id": "1sMPobAcLNIy",
        "outputId": "1d0d1313-a911-4e5a-ebdc-0439055d73e9"
      },
      "outputs": [
        {
          "data": {
            "text/plain": []
          },
          "execution_count": 9,
          "metadata": {},
          "output_type": "execute_result"
        }
      ],
      "source": [
        "response.prompt_feedback\n"
      ]
    },
    {
      "cell_type": "code",
      "execution_count": 10,
      "metadata": {
        "colab": {
          "base_uri": "https://localhost:8080/"
        },
        "id": "MB-pd9upLOeQ",
        "outputId": "442b6daa-d331-4b4f-9ac5-fdbe9fceaf41"
      },
      "outputs": [
        {
          "data": {
            "text/plain": [
              "[content {\n",
              "  parts {\n",
              "    text: \"The meaning of life is a question that has been pondered by philosophers and theologians for centuries, and there is no single, universally accepted answer. It is a deeply personal question that each individual must answer for themselves.\\n\\nHowever, here are some perspectives on the meaning of life:\\n\\n**Philosophical Perspectives:**\\n\\n* **Nihilism:**  Life has no inherent meaning, and existence is ultimately meaningless.\\n* **Existentialism:** Individuals create their own meaning through their choices and actions.\\n* **Absurdism:** Life is inherently absurd, and we must embrace this absurdity and find meaning in the face of it.\\n* **Hedonism:** The pursuit of pleasure and happiness is the primary goal of life.\\n* **Utilitarianism:** Actions are right if they promote the greatest happiness for the greatest number of people.\\n\\n**Religious Perspectives:**\\n\\n* **Christianity:**  The meaning of life is to know and love God and to live in accordance with his will.\\n* **Buddhism:** The goal of life is to attain enlightenment and escape the cycle of suffering (samsara).\\n* **Islam:** The purpose of life is to submit to the will of Allah and to live a life of worship and service.\\n\\n**Other Perspectives:**\\n\\n* **Meaning through relationships:**  Connecting with others and building meaningful relationships can provide a sense of purpose.\\n* **Meaning through creativity:**  Expressing oneself through art, music, writing, or other forms of creativity can be a source of meaning.\\n* **Meaning through service:**  Helping others and making a positive impact on the world can give life a sense of purpose.\\n\\nUltimately, the meaning of life is what you make it. It is a journey of self-discovery, and there is no right or wrong answer. Explore different perspectives, find what resonates with you, and create your own meaning. \\n\"\n",
              "  }\n",
              "  role: \"model\"\n",
              "}\n",
              "finish_reason: STOP\n",
              "index: 0\n",
              "safety_ratings {\n",
              "  category: HARM_CATEGORY_SEXUALLY_EXPLICIT\n",
              "  probability: NEGLIGIBLE\n",
              "}\n",
              "safety_ratings {\n",
              "  category: HARM_CATEGORY_HATE_SPEECH\n",
              "  probability: NEGLIGIBLE\n",
              "}\n",
              "safety_ratings {\n",
              "  category: HARM_CATEGORY_HARASSMENT\n",
              "  probability: NEGLIGIBLE\n",
              "}\n",
              "safety_ratings {\n",
              "  category: HARM_CATEGORY_DANGEROUS_CONTENT\n",
              "  probability: NEGLIGIBLE\n",
              "}\n",
              "]"
            ]
          },
          "execution_count": 10,
          "metadata": {},
          "output_type": "execute_result"
        }
      ],
      "source": [
        "response.candidates\n"
      ]
    },
    {
      "cell_type": "code",
      "execution_count": 24,
      "metadata": {
        "colab": {
          "base_uri": "https://localhost:8080/",
          "height": 1000
        },
        "id": "i9-K8UTILP3T",
        "outputId": "dfd3d45b-0a61-4d81-bf62-4a14d5bca45b"
      },
      "outputs": [
        {
          "name": "stdout",
          "output_type": "stream",
          "text": [
            "Okay\n",
            "________________________________________________________________________________\n",
            ", let's say I'm a teacher and a student is struggling with\n",
            "________________________________________________________________________________\n",
            " their homework. Here's how I'd approach the situation:\n",
            "\n",
            "**\n",
            "________________________________________________________________________________\n",
            "1. Gentle Inquiry:**\n",
            "\n",
            "* \"Hey [student's name], I noticed you're having a bit of trouble with this. What part is giving\n",
            "________________________________________________________________________________\n",
            " you the most difficulty?\"\n",
            "\n",
            "**2. Active Listening:**\n",
            "\n",
            "* I'd listen carefully to their explanation without interrupting. I want to understand their specific challenges\n",
            "________________________________________________________________________________\n",
            ", not just assume what they're struggling with.\n",
            "\n",
            "**3. Clarifying the Concepts:**\n",
            "\n",
            "* \"So, it seems like you're confused about [concept]. Let's break it down together.\" I would then explain\n",
            "________________________________________________________________________________\n",
            " the concept using different examples, diagrams, or analogies until the student shows understanding.\n",
            "\n",
            "**4. Guiding, Not Telling:**\n",
            "\n",
            "* I'd guide the student through the problem-solving process instead of just giving them the answer. I\n",
            "________________________________________________________________________________\n",
            " might ask questions like, \"What do you think you should do next?\" or \"What information do we need to solve this?\"\n",
            "\n",
            "**5. Checking for Understanding:**\n",
            "\n",
            "* I'd ask the student to explain their reasoning and check if they can apply the concept to a similar problem.\n",
            "\n",
            "**6. Providing\n",
            "________________________________________________________________________________\n",
            " Resources:**\n",
            "\n",
            "* Depending on the student's needs, I'd suggest additional resources like online tutorials, practice problems, or study groups.\n",
            "\n",
            "**7. Offering Support and Encouragement:**\n",
            "\n",
            "* \"It's okay to struggle sometimes. We all learn at different paces. Keep working at it, and I\n",
            "________________________________________________________________________________\n",
            "'m here to help you every step of the way.\"\n",
            "\n",
            "**8. Recognizing Effort:**\n",
            "\n",
            "* \"I appreciate your hard work and dedication. You're making great progress!\"\n",
            "\n",
            "**9. Adjusting My Approach:**\n",
            "\n",
            "* If the student continues to struggle, I would adapt my teaching method to better meet their\n",
            "________________________________________________________________________________\n",
            " needs. This might involve using different strategies or finding more personalized learning resources.\n",
            "\n",
            "**Remember, the goal is not just to get the student to complete the homework but to ensure they understand the concepts and develop problem-solving skills.** \n",
            "\n",
            "________________________________________________________________________________\n"
          ]
        }
      ],
      "source": [
        "response = model.generate_content(\"My teacher is never supportive Imagine you are a teacher and a student is struggling with homework. How would you help them?\", stream=True)\n",
        "for chunk in response:\n",
        "  print(chunk.text)\n",
        "  print(\"_\"*80)"
      ]
    },
    {
      "cell_type": "code",
      "execution_count": 11,
      "metadata": {
        "id": "LDw5ij2NLRbR"
      },
      "outputs": [],
      "source": [
        "\n"
      ]
    },
    {
      "cell_type": "code",
      "execution_count": 12,
      "metadata": {
        "colab": {
          "base_uri": "https://localhost:8080/"
        },
        "id": "047FN3C_MgHB",
        "outputId": "485d19b5-b668-4d7a-d46d-0fa5ea62c576"
      },
      "outputs": [
        {
          "name": "stdout",
          "output_type": "stream",
          "text": [
            "Drive already mounted at /content/drive; to attempt to forcibly remount, call drive.mount(\"/content/drive\", force_remount=True).\n"
          ]
        }
      ],
      "source": [
        "from google.colab import drive\n",
        "drive.mount('/content/drive')"
      ]
    },
    {
      "cell_type": "code",
      "execution_count": 14,
      "metadata": {
        "id": "dw69CM2pLS1r"
      },
      "outputs": [],
      "source": [
        "model = genai.GenerativeModel('gemini-1.5-flash')\n"
      ]
    },
    {
      "cell_type": "code",
      "execution_count": 15,
      "metadata": {
        "colab": {
          "base_uri": "https://localhost:8080/"
        },
        "id": "sqTb_nPTLUS3",
        "outputId": "33b0281e-a431-441c-a275-29c64f6d9000"
      },
      "outputs": [
        {
          "data": {
            "text/plain": [
              "ChatSession(\n",
              "    model=genai.GenerativeModel(\n",
              "        model_name='models/gemini-1.5-flash',\n",
              "        generation_config={},\n",
              "        safety_settings={},\n",
              "        tools=None,\n",
              "        system_instruction=None,\n",
              "    ),\n",
              "    history=[]\n",
              ")"
            ]
          },
          "execution_count": 15,
          "metadata": {},
          "output_type": "execute_result"
        }
      ],
      "source": [
        "model = genai.GenerativeModel('gemini-1.5-flash')\n",
        "chat = model.start_chat(history=[])\n",
        "chat"
      ]
    },
    {
      "cell_type": "code",
      "execution_count": 30,
      "metadata": {
        "colab": {
          "base_uri": "https://localhost:8080/",
          "height": 545
        },
        "id": "CfNmuRkGLVQU",
        "outputId": "a364c625-7b5d-43cb-ab84-4c02e7763f8e"
      },
      "outputs": [
        {
          "data": {
            "text/markdown": [
              "> Okay, I understand how frustrating it is to feel like your teacher isn't supportive. It's important to communicate your needs, even if it feels tough.  Here's a possible conversation outline, but remember, adjust it to your specific situation and comfort level:\n",
              "> \n",
              "> **1. Set the Stage:**\n",
              "> \n",
              "> * **Choose a good time:** Try to schedule a time to talk when you're both calm and have some time. Don't ambush them during class or right after a test.\n",
              "> * **Start with a calm and respectful tone:** It's important to stay focused on the issue, not attack the teacher.\n",
              "> \n",
              "> **2. Express your Concerns:**\n",
              "> \n",
              "> * **\"I've been struggling a bit in class lately, and I wanted to talk about it.\"** (This is a general opening that doesn't make accusations.)\n",
              "> * **Be specific about your struggles:** \"I'm having trouble understanding [specific concept]. I've tried [mention what you've already done] but I'm still confused.\" \n",
              "> * **\"I'm feeling a bit discouraged because…\" ** (Explain how the lack of support is impacting you - e.g., \"I'm worried about my grade,\" \"I'm not sure I'm learning the material,\" etc.)\n",
              "> \n",
              "> **3.  Focus on Solutions:**\n",
              "> \n",
              "> * **\"I was hoping we could work together to find a way to help me understand better.\"** (This shows you're open to collaboration.)\n",
              "> * **Ask for specific things:** \"Would you be willing to [specific request, e.g., \"explain the concept in a different way,\" \"give me some extra practice problems,\" \"offer me extra help during office hours\"]?\n",
              "> * **Offer solutions:** \"I'd also like to try [specific plan, e.g., \"attending tutoring sessions,\" \"reading the textbook chapter again\"].\"\n",
              "> \n",
              "> **4.  End on a Positive Note:**\n",
              "> \n",
              "> * **Thank them for their time.** \n",
              "> * **Reiterate your commitment to learning:** \"I'm determined to improve, and I hope we can work together to make that happen.\"\n",
              "> \n",
              "> **Remember:**\n",
              "> \n",
              "> * **Stay calm and assertive:**  It's okay to express your feelings, but avoid becoming angry or emotional.\n",
              "> * **Focus on solutions, not blame:** The goal is to find a way to improve your situation, not to lay blame on the teacher.\n",
              "> * **Be prepared to take initiative:**  It's okay to ask for help, but be proactive in seeking solutions.\n",
              "> \n",
              "> If this conversation doesn't work, or if you continue to feel unsupported, consider talking to your parents, a school counselor, or another trusted adult. \n"
            ],
            "text/plain": [
              "<IPython.core.display.Markdown object>"
            ]
          },
          "execution_count": 30,
          "metadata": {},
          "output_type": "execute_result"
        }
      ],
      "source": [
        "response = chat.send_message(\"My teacher is never supportive of me, so when I am struggling map out a conversation between me and my teacher\")\n",
        "to_markdown(response.text)"
      ]
    },
    {
      "cell_type": "code",
      "execution_count": 17,
      "metadata": {
        "colab": {
          "base_uri": "https://localhost:8080/"
        },
        "id": "Y4_FosXmLVoT",
        "outputId": "808b3470-070c-4fe6-a81e-7d26bfe00f2f"
      },
      "outputs": [
        {
          "data": {
            "text/plain": [
              "[parts {\n",
              "   text: \"In one sentence, explain how a computer works to a young child.\"\n",
              " }\n",
              " role: \"user\",\n",
              " parts {\n",
              "   text: \"A computer is like a super smart toy that follows your instructions and shows you fun things on a screen! \\n\"\n",
              " }\n",
              " role: \"model\"]"
            ]
          },
          "execution_count": 17,
          "metadata": {},
          "output_type": "execute_result"
        }
      ],
      "source": [
        "chat.history"
      ]
    }
  ],
  "metadata": {
    "colab": {
      "authorship_tag": "ABX9TyOejC4dXDGcG/Kf4cFEaR08",
      "include_colab_link": true,
      "mount_file_id": "1bNq7fybOXgK-7iU6lntX1d1so6rlxtdC",
      "provenance": []
    },
    "kernelspec": {
      "display_name": "Python 3",
      "name": "python3"
    },
    "language_info": {
      "name": "python"
    }
  },
  "nbformat": 4,
  "nbformat_minor": 0
}
