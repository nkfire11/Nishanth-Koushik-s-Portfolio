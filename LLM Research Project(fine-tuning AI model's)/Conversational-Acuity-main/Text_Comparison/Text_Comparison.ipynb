{
  "nbformat": 4,
  "nbformat_minor": 0,
  "metadata": {
    "colab": {
      "provenance": []
    },
    "kernelspec": {
      "name": "python3",
      "display_name": "Python 3"
    },
    "language_info": {
      "name": "python"
    }
  },
  "cells": [
    {
      "cell_type": "markdown",
      "source": [
        "## Installed Required Libraries"
      ],
      "metadata": {
        "id": "OMBg8ltjIvqB"
      }
    },
    {
      "cell_type": "code",
      "source": [
        "# Install libraries\n",
        "!pip install scikit-learn python-Levenshtein nltk"
      ],
      "metadata": {
        "colab": {
          "base_uri": "https://localhost:8080/"
        },
        "id": "u5sloBWLwNBG",
        "outputId": "1fd034fc-a7d6-41c2-e6f7-23a44f1c694b"
      },
      "execution_count": null,
      "outputs": [
        {
          "output_type": "stream",
          "name": "stdout",
          "text": [
            "Requirement already satisfied: scikit-learn in /usr/local/lib/python3.10/dist-packages (1.3.2)\n",
            "Collecting python-Levenshtein\n",
            "  Downloading python_Levenshtein-0.25.1-py3-none-any.whl.metadata (3.7 kB)\n",
            "Requirement already satisfied: nltk in /usr/local/lib/python3.10/dist-packages (3.8.1)\n",
            "Requirement already satisfied: numpy<2.0,>=1.17.3 in /usr/local/lib/python3.10/dist-packages (from scikit-learn) (1.26.4)\n",
            "Requirement already satisfied: scipy>=1.5.0 in /usr/local/lib/python3.10/dist-packages (from scikit-learn) (1.13.1)\n",
            "Requirement already satisfied: joblib>=1.1.1 in /usr/local/lib/python3.10/dist-packages (from scikit-learn) (1.4.2)\n",
            "Requirement already satisfied: threadpoolctl>=2.0.0 in /usr/local/lib/python3.10/dist-packages (from scikit-learn) (3.5.0)\n",
            "Collecting Levenshtein==0.25.1 (from python-Levenshtein)\n",
            "  Downloading Levenshtein-0.25.1-cp310-cp310-manylinux_2_17_x86_64.manylinux2014_x86_64.whl.metadata (3.3 kB)\n",
            "Collecting rapidfuzz<4.0.0,>=3.8.0 (from Levenshtein==0.25.1->python-Levenshtein)\n",
            "  Downloading rapidfuzz-3.9.6-cp310-cp310-manylinux_2_17_x86_64.manylinux2014_x86_64.whl.metadata (12 kB)\n",
            "Requirement already satisfied: click in /usr/local/lib/python3.10/dist-packages (from nltk) (8.1.7)\n",
            "Requirement already satisfied: regex>=2021.8.3 in /usr/local/lib/python3.10/dist-packages (from nltk) (2024.5.15)\n",
            "Requirement already satisfied: tqdm in /usr/local/lib/python3.10/dist-packages (from nltk) (4.66.5)\n",
            "Downloading python_Levenshtein-0.25.1-py3-none-any.whl (9.4 kB)\n",
            "Downloading Levenshtein-0.25.1-cp310-cp310-manylinux_2_17_x86_64.manylinux2014_x86_64.whl (177 kB)\n",
            "\u001b[2K   \u001b[90m━━━━━━━━━━━━━━━━━━━━━━━━━━━━━━━━━━━━━━━━\u001b[0m \u001b[32m177.4/177.4 kB\u001b[0m \u001b[31m4.1 MB/s\u001b[0m eta \u001b[36m0:00:00\u001b[0m\n",
            "\u001b[?25hDownloading rapidfuzz-3.9.6-cp310-cp310-manylinux_2_17_x86_64.manylinux2014_x86_64.whl (3.4 MB)\n",
            "\u001b[2K   \u001b[90m━━━━━━━━━━━━━━━━━━━━━━━━━━━━━━━━━━━━━━━━\u001b[0m \u001b[32m3.4/3.4 MB\u001b[0m \u001b[31m31.7 MB/s\u001b[0m eta \u001b[36m0:00:00\u001b[0m\n",
            "\u001b[?25hInstalling collected packages: rapidfuzz, Levenshtein, python-Levenshtein\n",
            "Successfully installed Levenshtein-0.25.1 python-Levenshtein-0.25.1 rapidfuzz-3.9.6\n"
          ]
        }
      ]
    },
    {
      "cell_type": "code",
      "source": [
        "# Import libraries\n",
        "\n",
        "# Tokenization\n",
        "from sklearn.feature_extraction.text import TfidfVectorizer\n",
        "# Cosine Similarity\n",
        "from sklearn.metrics.pairwise import cosine_similarity\n",
        "# Vectorization\n",
        "from sklearn.feature_extraction.text import CountVectorizer\n",
        "# Edit distance\n",
        "import Levenshtein"
      ],
      "metadata": {
        "id": "X1wprdcfwPNR"
      },
      "execution_count": null,
      "outputs": []
    },
    {
      "cell_type": "code",
      "source": [
        "string1 = \"In Homer's 'The Iliad', heroism is portrayed as being directly linked to physical strength, bravery, and valor in battle. The characters such as Achilles, Hector, and Diomedes are seen as heroes because of their prowess in war and their willingness to fight for their honor and glory. Heroism is often associated with fame, pride, and achieving victory on the battlefield.  On the other hand, in J.K. Rowling's 'Harry Potter' series, heroism is portrayed in a different light. While physical strength and bravery are still important qualities for heroes like Harry Potter and his friends, heroism in this series also includes qualities such as loyalty, friendship, sacrifice, and standing up for what is right. Characters like Harry, Hermione, and Ron are seen as heroes not just because of their magical abilities, but also because of their willingness to fight for justice and protect their loved ones.  Overall, the concept of heroism in 'The Iliad' is more focused on individual glory and prowess in battle, while in the 'Harry Potter' series, heroism is more about courage, moral integrity, and selflessness in the face of adversity.\"\n",
        "\n",
        "string2=\"In Homer's The Iliad, heroism is usually defined by physical strength, courage, and glory in battle. Heroes like Achilles and Hector are admired for their bravery and martial prowess, and their actions are closely tied to the honor and reputation they accrue. In contrast, the concept of heroism in J.K. Rowling's Harry Potter series is more inclusive and emphasizes qualities like friendship, loyalty, and self-sacrifice. Characters like Harry, Hermione, and Ron are celebrated for their moral courage, empathy, and willingness to fight for the greater good, often at great personal cost. The series also highlights the importance of individual agency and the idea that anyone can be a hero, regardless of their background or abilities.\""
      ],
      "metadata": {
        "id": "aDnELRiywUqH"
      },
      "execution_count": null,
      "outputs": []
    },
    {
      "cell_type": "markdown",
      "source": [
        "### Cosine Similarity"
      ],
      "metadata": {
        "id": "G49_lHT4wfRT"
      }
    },
    {
      "cell_type": "markdown",
      "source": [
        "Cosine similarity measures the cosine of the angle between two non-zero vectors in a multi-dimensional space, indicating how similar the vectors are to each other. To evaluate its results, a cosine similarity score close to 1 indicates high similarity, 0 indicates orthogonality (no similarity), and -1 indicates complete dissimilarity. In text similarity, cosine similarity is relevant because it quantifies the similarity between two strings by comparing their vectorized representations."
      ],
      "metadata": {
        "id": "j_0-Re1uw68I"
      }
    },
    {
      "cell_type": "code",
      "source": [
        "from sklearn.feature_extraction.text import TfidfVectorizer\n",
        "from sklearn.metrics.pairwise import cosine_similarity\n",
        "\n",
        "# Define the strings to compare\n",
        "set1 = [\"The concept of heroism in Homer's 'The Iliad' focuses heavily on physical strength, bravery in battle, loyalty to one's comrades, and honor in the eyes of the gods. The heroes in 'The Iliad,' such as Achilles and Hector, are revered for their fighting prowess and their willingness to sacrifice themselves for the success of their armies.  On the other hand, in J.K. Rowling's 'Harry Potter' series, heroism is depicted in a more nuanced and complex way. The characters in the series, particularly Harry, Hermione, and Ron, exhibit heroism through their courage, integrity, and selflessness in the face of great danger and adversity. They demonstrate that heroism can also involve compassion, loyalty, and the willingness to stand up for what is right, even when it is difficult or unpopular.  Additionally, in 'Harry Potter,' heroism is not limited to those with exceptional physical abilities or noble bloodlines. Characters like Neville Longbottom and Luna Lovegood also demonstrate heroism through their quiet determination, resilience, and willingness to stand up for their beliefs.  Overall, the concept of heroism in 'The Iliad' is more focused on traditional notions of bravery and strength in battle, while in the 'Harry Potter' series, heroism is portrayed as a more multifaceted and inclusive trait that encompasses a range of qualities beyond just physical prowess.\", \"The primary themes explored in Jane Austen's 'Pride and Prejudice' include:  1. Love and marriage: The novel examines the various relationships and courtships of the characters, highlighting the importance of compatibility, respect, and genuine affection in marriage.  2. Social class and status: The novel explores the impact of social class and status on individuals' lives and relationships. It critiques the rigid social hierarchy of the time and the expectations placed on individuals based on their social standing.  3. Gender roles and expectations: 'Pride and Prejudice' also delves into the societal norms and expectations placed on women in the early 19th century, particularly in terms of marriage, education, and social conduct.  4. Personal growth and self-awareness: The characters in the novel undergo personal growth and self-reflection, learning to overcome their own prejudices and misconceptions about others.  5. Satire and irony: Austen uses wit, satire, and irony to critique the manners and behaviors of the characters, as well as to highlight the absurdities of the society in which they live.  6. Family and relationships: The novel explores the dynamics of family relationships, particularly within the Bennet family, and how these relationships influence the characters' decisions and interactions with others.\", \"1. Principle of complementarity: According to Bohr, the behaviour of objects on the quantum scale is both particle-like and wave-like, and these aspects are complementary to each other. It is impossible to observe both aspects simultaneously.  2. Principle of quantization: Certain physical properties, such as energy levels, angular momentum, and position, are quantized in discrete, non-continuous amounts in the quantum world.  3. Principle of probability: In quantum mechanics, the exact state of a system cannot be determined with certainty, only probabilities of different states can be calculated.  4. Principle of wave-particle duality: Particles can exhibit both wave-like and particle-like properties depending on how they are observed or measured.  5. Principle of indeterminacy: It is impossible to simultaneously determine the exact position and momentum of a particle due to the inherent uncertainty in the quantum world.  6. Principle of superposition: A quantum system can exist in multiple states at the same time until it is measured or observed, at which point it collapses into a single state.\", \"The architecture of ancient Rome was heavily influenced by that of ancient Greece, but it also had its own unique characteristics. Both civilizations used columns, arches, and other classical elements in their buildings. However, Roman architecture tended to be more grandiose and monumental than Greek architecture.  One major difference between the two was the use of concrete in Roman architecture. The Romans were able to build larger and more complex structures, such as the Colosseum and the Pantheon, using concrete, which allowed for greater flexibility in design and construction techniques. Greek architecture, on the other hand, primarily used stone and marble.  In terms of style, Roman architecture was more focused on practicality and functionality, while Greek architecture was more focused on aesthetics and harmony. Roman buildings often had a more utilitarian design, with large open spaces and thick walls, while Greek buildings were more symmetrical and balanced.  Overall, both ancient Roman and Greek architecture share many similarities, but each also had its own distinct characteristics and influences.\", \"1. Technological advancements: The rapid advancements in computing power, storage capabilities, and algorithms have significantly contributed to the rise of artificial intelligence in the 21st century. These technological developments have enabled the processing of large amounts of data and the creation of complex AI models.  2. Big data: The exponential growth of data generated by various sources such as social media, internet usage, and sensor networks has created a massive amount of data that can be used to train AI models. Big data plays a crucial role in the development of AI systems by providing valuable insights and patterns for machine learning algorithms.  3. Cloud computing: The availability of cloud computing services has made it easier for organizations to access and utilize AI technologies. Cloud computing provides the necessary infrastructure and resources for running AI applications, making it more accessible and cost-effective for businesses.  4. Internet of Things (IoT): The proliferation of connected devices and sensors in the IoT ecosystem has generated a vast amount of real-time data that can be analyzed and used by AI systems. IoT devices generate valuable data that can be used to improve AI algorithms and make them more efficient.  5. Investment and funding: Increased investment and funding in AI research and development by governments, corporations, and venture capitalists have fueled the growth of artificial intelligence in the 21st century. This financial support has enabled researchers and developers to explore new AI technologies and applications.  6. Demand for automation: The growing need for automation in various industries such as healthcare, finance, manufacturing, and transportation has driven the adoption of AI technologies. Businesses are increasingly turning to AI solutions to streamline processes, reduce costs, and improve productivity.  7. AI applications: The development and deployment of AI applications in areas such as image recognition, natural language processing, speech recognition, and autonomous vehicles have showcased the potential of artificial intelligence in solving complex problems. These successful AI applications have fueled interest and investment in the field.\", \"Traditional Japanese tea ceremonies, known as Chanoyu or Sado, are deeply rooted in Japanese culture and have been practiced for centuries. The ceremonies typically take place in a specially designated tea room or garden, and are characterized by a series of ritualized gestures, movements, and interactions centered around the preparation and serving of matcha, powdered green tea.  Key features of traditional Japanese tea ceremonies include:  1. The emphasis on mindfulness and presence: Participants in tea ceremonies are encouraged to be fully present in the moment, focusing on each movement and gesture with intention and respect.  2. The use of traditional utensils: Tea ceremonies involve the use of specific utensils such as a chawan (tea bowl), chasen (tea whisk), chashaku (tea scoop), and kama (kettle) that have been carefully crafted and chosen for their aesthetics and functionality.  3. The importance of aesthetics: Japanese tea ceremonies place a strong emphasis on the aesthetics of the tea room, utensils, and decorations, with a focus on simplicity, harmony, and beauty.  4. The role of the host and guest: Tea ceremonies follow a specific protocol of interactions between the host, who prepares and serves the tea, and the guests, who receive the tea and express their gratitude through bowing and other gestures.  Culturally, traditional Japanese tea ceremonies hold significant importance as a symbol of hospitality, respect, and harmony. They are seen as a way to connect with others, appreciate the beauty of nature, and cultivate a sense of inner peace and mindfulness. Tea ceremonies also serve as a means of preserving traditional customs and honoring the rich history and cultural heritage of Japan.\", \"1. Displacement of rural populations: As people from rural communities move to urban areas in search of better job opportunities and improved living standards, rural communities may experience a population decline. This can lead to a decrease in local businesses and services, as well as a loss of community cohesion.  2. Decline in agricultural activities: Urbanization can lead to a decrease in agricultural land as it is converted for residential or commercial use. This can have a significant impact on rural economies that rely heavily on agriculture for income and employment opportunities.  3. Increase in land and property prices: Urbanization can lead to an increase in land and property prices in rural areas as demand for housing and commercial space grows. This can make it difficult for local residents to afford to buy or rent property in their own communities, leading to further displacement and social disruption.  4. Changes in local infrastructure and services: As rural communities urbanize, there may be a shift in the focus of infrastructure and services towards supporting urban areas. This could result in a neglect of rural infrastructure and services, such as schools, healthcare facilities, and transportation networks, which can have a negative impact on the quality of life for rural residents.  5. Increase in income inequality: Urbanization can exacerbate income inequality between urban and rural areas, as urban centers tend to offer better job opportunities and higher wages. This can lead to a widening gap in income levels and access to resources between urban and rural populations.  6. Pressure on natural resources: Urbanization can put pressure on natural resources in rural areas, such as water, land, and forests, as urban populations require more resources for their growing needs. This can lead to environmental degradation and resource depletion in rural communities, impacting their long-term sustainability and resilience.\", \"The concept of the social contract in political philosophy differs between Hobbes and Rousseau in several key ways.  Hobbes believed in a social contract theory that emphasized the need for a strong central authority to maintain order and prevent the chaos of the state of nature. In his seminal work, Leviathan, Hobbes argued that individuals would voluntarily give up some of their freedom and rights to a sovereign authority in exchange for security and protection. This sovereign authority would have absolute power and serve as the ultimate arbiter of disputes and enforcer of laws.  On the other hand, Rousseau's social contract theory focused on the idea of a collective agreement among individuals to form a community based on shared values and mutual consent. In his work, The Social Contract, Rousseau argued that the social contract should be based on the general will of the people, rather than the will of a sovereign authority. He believed that individuals should come together to create a society that promotes the common good and equality for all members.  Overall, Hobbes' social contract theory emphasizes the need for a strong central authority to maintain order and security, while Rousseau's social contract theory emphasizes the importance of collective decision-making and the common good of the community.\", \"1. Invention of the first solar cell in 1883 by Charles Fritts, marking the beginning of harnessing solar energy for electricity generation.  2. The first commercial wind turbine was installed in the United States in 1941, marking the beginning of large-scale wind power generation.  3. The development of the first geothermal power plant in Italy in 1904, marking the beginning of utilizing geothermal energy for electricity generation.  4. The first successful demonstration of harnessing ocean wave energy in the 1970s, marking the beginning of ocean energy as a potential renewable energy source.  5. The development of the first commercial tidal power plant in France in 1966, marking the beginning of utilizing tidal energy for electricity generation.  6. The commercialization of biomass energy technologies in the 1970s, marking the beginning of utilizing organic materials for renewable energy production.  7. The invention of the first modern hydroelectric power plant in the late 19th century, marking the beginning of large-scale electricity generation from water.  8. The development and commercialization of biofuels in the late 20th century, marking the beginning of utilizing renewable sources for transportation fuels.  9. The introduction of feed-in tariffs and other policy incentives in the late 20th century, promoting the widespread adoption of renewable energy technologies.   10. The recent advancements in energy storage technologies, such as batteries and pumped hydro storage, have enabled the integration of intermittent renewable energy sources into the grid.\"]\n",
        "\n",
        "\n",
        "set2 = [\n",
        "    \"In Homer’s 'The Iliad', heroism is often portrayed as an individualistic pursuit, with heroes like Achilles and Hector engaging in single combat and achieving glory through their personal feats of strength and skill. In contrast, the concept of heroism in J.K. Rowling’s 'Harry Potter' series is more collective, with Harry and his friends working together to overcome challenges and fight against the forces of darkness. While Achilles and Hector are driven by personal honor and glory, Harry and his friends are motivated by a sense of duty and loyalty to each other and to the wizarding world. Additionally, the heroes in 'The Iliad' are often defined by their physical prowess and martial skill, while the heroes in 'Harry Potter' are characterized by their moral courage and willingness to stand up for what is right, even in the face of overwhelming odds.\",\n",
        "    \"The primary themes explored in Jane Austen's 'Pride and Prejudice' include love and marriage, social class, and reputation. The novel depicts the challenges faced by characters as they navigate societal expectations and personal desires, highlighting the importance of self-awareness and personal growth. The theme of love and marriage is central to the story, as characters like Elizabeth Bennet and Mr. Darcy must confront their own prejudices and misconceptions in order to find true happiness. Austen also explores the impact of social class on relationships, illustrating the limitations and opportunities that arise from one's social standing. Additionally, the theme of reputation underscores the characters' struggles to balance societal norms with personal integrity, revealing the complexity of human interactions and the power of first impressions.\",\n",
        "    \"The main principles of quantum mechanics as introduced by Niels Bohr are the quantization of energy, wave-particle duality, and the uncertainty principle. Bohr’s model of the atom, proposed in 1913, incorporated these principles and laid the foundation for quantum theory. This model postulated that electrons orbit the nucleus in discrete energy levels, or shells, and that they can only move between these levels by absorbing or emitting photons. This quantization of energy explained the spectral lines observed in the hydrogen atom, providing a better understanding of atomic structure and the behavior of matter at the subatomic level. Furthermore, Bohr’s model also supported the wave-particle duality of matter, suggesting that particles like electrons exhibit both wave-like and particle-like properties. This idea was later expanded by de Broglie’s hypothesis, which stated that all particles have wave properties and can be described by a wave function. Lastly, Bohr’s work on the uncertainty principle, developed with Heisenberg in 1927, showed that it is impossible to simultaneously measure the position and momentum of a particle with absolute precision. This principle highlights the inherent limitations of classical physics when applied to quantum systems and underscores the probabilistic nature of quantum mechanics. By incorporating these principles, Bohr’s contributions to quantum theory revolutionized our understanding of the atomic world and paved the way for future developments in physics.\",\n",
        "    \"Ancient Roman architecture was heavily influenced by ancient Greek architecture. Both civilizations used columns, arches, and domes in their buildings. However, Roman architecture was more focused on grandeur and scale, with larger buildings and more elaborate decoration. The Romans also developed concrete as a building material, allowing for larger structures such as the Colosseum and the Pantheon.\",\n",
        "    \"The rise of artificial intelligence in the 21st century is attributed to the availability of vast amounts of data, advancements in machine learning algorithms, increased computing power, and growing demand for automation across industries. These factors have enabled AI to revolutionize various fields, from healthcare to finance, by enhancing decision-making, streamlining processes, and enabling new capabilities such as natural language processing and computer vision.\",\n",
        "    \"Traditional Japanese tea ceremonies are deeply rooted in Zen Buddhism and are seen as a spiritual practice that emphasizes harmony, respect, purity, and tranquility. The key features of a tea ceremony include the preparation and serving of matcha (powdered green tea) by a skilled tea master in a tranquil setting, often a tea room with tatami mats and a simple, elegant decor. The ceremony typically follows a precise series of movements and gestures, with the host using traditional utensils such as a bamboo scoop and whisk to prepare the tea with precision and grace. Participants, usually seated on tatami mats, are expected to observe strict etiquette and show respect for the host and each other. The sharing of a bowl of tea is seen as a symbol of unity and mutual understanding, fostering a sense of connection and mindfulness. The tea ceremony is considered a form of art that requires years of training and practice to master, with each detail carefully chosen to create a harmonious and meditative experience.\",\n",
        "    \"The primary economic impacts of urbanization on rural communities include increased access to markets, improved infrastructure, and higher land values. However, urbanization can also lead to rural depopulation and increased income inequality.\",\n",
        "    \"The concept of 'social contract' in political philosophy differs between Hobbes and Rousseau in terms of their views on the nature of the state of nature, the role of individual rights and freedoms, and the legitimacy of political authority. Hobbes argues that the state of nature is a condition of perpetual conflict and insecurity, where life is 'nasty, brutish, and short'. In contrast, Rousseau views the state of nature as a condition of harmony and equality, where individuals are free and self-sufficient.\",\n",
        "    \"The key milestones in the development of renewable energy technologies include the creation of the first solar cell in 1954, the first wind turbine in 1888, the first commercial geothermal plant in 1960, and the first hydroelectric plant in the late 19th century.  The development of these technologies and subsequent advancements have led to increased efficiency and affordability, making renewable energy sources a viable alternative to fossil fuels. The 1973 oil crisis further highlighted the importance of renewable energy, and since then, significant progress has been made in the development of solar, wind, geothermal, and hydroelectric power.\"\n",
        "\n",
        "]\n"
      ],
      "metadata": {
        "id": "Va1QMdGTAynv"
      },
      "execution_count": null,
      "outputs": []
    },
    {
      "cell_type": "code",
      "source": [
        "# Store results in a list\n",
        "vectorizer = TfidfVectorizer()\n",
        "\n",
        "similarities = []\n",
        "\n",
        "for i in range(len(set1)):\n",
        "    tfidf_matrix = vectorizer.fit_transform([set1[i], set2[i]])\n",
        "    similarity = cosine_similarity(tfidf_matrix[0:1], tfidf_matrix[1:2])[0][0]\n",
        "    similarities.append(similarity)\n",
        "    print(f\"Cosine Similarity for pair {i+1}: {similarity:.4f}\")"
      ],
      "metadata": {
        "id": "0Jl6XhV0axuy"
      },
      "execution_count": null,
      "outputs": []
    },
    {
      "cell_type": "markdown",
      "source": [
        "### Jaccard Similarity"
      ],
      "metadata": {
        "id": "x7SFyfLawqOv"
      }
    },
    {
      "cell_type": "markdown",
      "source": [
        "Jaccard similarity measures the size of the intersection divided by the size of the union of two sets, indicating the proportion of shared elements. To evaluate its results, a Jaccard similarity score of 1 means the sets are identical, 0 means they have no elements in common, and values in between indicate the degree of overlap. In text similarity, Jaccard similarity compares the commonality between two sets of words from text documents, highlighting how much of the content is shared."
      ],
      "metadata": {
        "id": "35U0V64Gw7Y7"
      }
    },
    {
      "cell_type": "code",
      "source": [
        "from sklearn.feature_extraction.text import TfidfVectorizer\n",
        "from sklearn.metrics import jaccard_score\n",
        "from sklearn.preprocessing import Binarizer\n",
        "\n",
        "similarities1 = []\n",
        "\n",
        "for i in range(len(set1)):\n",
        "    # Convert sets to binary vectors\n",
        "    vectorizer = TfidfVectorizer(binary=True)\n",
        "    tfidf_matrix = vectorizer.fit_transform([set1[i], set2[i]])\n",
        "\n",
        "    # Binarize the TF-IDF matrix\n",
        "    binarizer = Binarizer()\n",
        "    binary_matrix = binarizer.fit_transform(tfidf_matrix)\n",
        "\n",
        "    # Calculate Jaccard similarity\n",
        "    similarity = jaccard_score(binary_matrix[0].toarray()[0], binary_matrix[1].toarray()[0])\n",
        "    similarities1.append(similarity)\n",
        "    print(f\"Jaccard Similarity for pair {i+1}: {similarity:.4f}\")\n",
        "\n"
      ],
      "metadata": {
        "id": "YlQ1t3HlZ2kA"
      },
      "execution_count": null,
      "outputs": []
    },
    {
      "cell_type": "markdown",
      "source": [
        "### Levenshtein Distance (Edit Distance)"
      ],
      "metadata": {
        "id": "NgaRmDXLwubv"
      }
    },
    {
      "cell_type": "markdown",
      "source": [
        "Levenshtein distance measures the minimum number of single-character edits (insertions, deletions, or substitutions) needed to change one string into another. To evaluate its results, a lower Levenshtein distance indicates greater similarity between the two strings, with a distance of 0 meaning the strings are identical. In text similarity, Levenshtein distance is relevant because it quantifies the effort required to transform one text into another, capturing the direct differences between them.\n",
        "\n",
        "\n",
        "\n",
        "\n",
        "\n",
        "\n"
      ],
      "metadata": {
        "id": "7_5ZITJbw7vx"
      }
    },
    {
      "cell_type": "code",
      "source": [
        "import Levenshtein\n",
        "\n",
        "distances = []\n",
        "# Loop through each pair of text data\n",
        "for i in range(len(set1)):\n",
        "    # Calculate Levenshtein Distance between the text from set1 and set2\n",
        "    lev_distance = Levenshtein.distance(set1[i], set2[i])\n",
        "\n",
        "    # Append the distance score to the list\n",
        "    distances.append(lev_distance)\n",
        "\n",
        "    # Print the Levenshtein distance score for the current pair\n",
        "    print(f\"Levenshtein Distance for pair {i+1}: {lev_distance}\")\n"
      ],
      "metadata": {
        "id": "Xzs19nBgwbu9"
      },
      "execution_count": null,
      "outputs": []
    }
  ]
}
