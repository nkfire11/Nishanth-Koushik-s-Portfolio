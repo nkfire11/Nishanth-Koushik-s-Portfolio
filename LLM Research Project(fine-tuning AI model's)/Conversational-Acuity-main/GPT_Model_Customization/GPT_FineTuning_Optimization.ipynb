{
  "cells": [
    {
      "cell_type": "markdown",
      "source": [
        "### Import dataset\n"
      ],
      "metadata": {
        "id": "0B6yMZImFh1J"
      }
    },
    {
      "cell_type": "code",
      "source": [
        "# Import dataset from github\n",
        "!wget https://github.com/michaelnaeim/Conversational-Acuity/raw/main/Dataset/PromptDataset.csv -O PromptDataset.csv"
      ],
      "metadata": {
        "colab": {
          "base_uri": "https://localhost:8080/"
        },
        "id": "6iVs0J3mFurD",
        "outputId": "dcbc34f3-e8f9-46d5-ea0d-0d0032f1612d"
      },
      "execution_count": 1,
      "outputs": [
        {
          "output_type": "stream",
          "name": "stdout",
          "text": [
            "--2024-09-13 01:54:48--  https://github.com/michaelnaeim/Conversational-Acuity/raw/main/Dataset/PromptDataset.csv\n",
            "Resolving github.com (github.com)... 20.27.177.113\n",
            "Connecting to github.com (github.com)|20.27.177.113|:443... connected.\n",
            "HTTP request sent, awaiting response... 302 Found\n",
            "Location: https://raw.githubusercontent.com/michaelnaeim/Conversational-Acuity/main/Dataset/PromptDataset.csv [following]\n",
            "--2024-09-13 01:54:48--  https://raw.githubusercontent.com/michaelnaeim/Conversational-Acuity/main/Dataset/PromptDataset.csv\n",
            "Resolving raw.githubusercontent.com (raw.githubusercontent.com)... 185.199.108.133, 185.199.111.133, 185.199.109.133, ...\n",
            "Connecting to raw.githubusercontent.com (raw.githubusercontent.com)|185.199.108.133|:443... connected.\n",
            "HTTP request sent, awaiting response... 200 OK\n",
            "Length: 30125 (29K) [text/plain]\n",
            "Saving to: ‘PromptDataset.csv’\n",
            "\n",
            "PromptDataset.csv   100%[===================>]  29.42K  --.-KB/s    in 0.01s   \n",
            "\n",
            "2024-09-13 01:54:49 (2.93 MB/s) - ‘PromptDataset.csv’ saved [30125/30125]\n",
            "\n"
          ]
        }
      ]
    },
    {
      "cell_type": "code",
      "source": [
        "# Check if the file is downloaded\n",
        "!cd /content/\n",
        "!ls"
      ],
      "metadata": {
        "colab": {
          "base_uri": "https://localhost:8080/"
        },
        "id": "HzVlNlmdF3T5",
        "outputId": "6d2e57e0-78b0-4713-9e21-92c22de274ae"
      },
      "execution_count": 4,
      "outputs": [
        {
          "output_type": "stream",
          "name": "stdout",
          "text": [
            "PromptDataset.csv  sample_data\n"
          ]
        }
      ]
    },
    {
      "cell_type": "code",
      "execution_count": 5,
      "metadata": {
        "colab": {
          "base_uri": "https://localhost:8080/",
          "height": 206
        },
        "id": "SQhCTL1aPyIu",
        "outputId": "98334698-9059-4283-d67e-105518bcd1a3"
      },
      "outputs": [
        {
          "output_type": "execute_result",
          "data": {
            "text/plain": [
              "                                              Prompt  \\\n",
              "0                     What is the capital of France?   \n",
              "1                          Explain the water cycle.    \n",
              "2  Name the three branches of the U.S. government...   \n",
              "3                 Describe how photosynthesis works.   \n",
              "4  What are the main differences between classica...   \n",
              "\n",
              "                                            Response  \n",
              "0                    The capital of France is Paris.  \n",
              "1  The water cycle is the continuous movement of ...  \n",
              "2  The three branches of the U.S. government are ...  \n",
              "3  Photosynthesis is the process in which green p...  \n",
              "4  The main differences between classical and qua...  "
            ],
            "text/html": [
              "\n",
              "  <div id=\"df-c3b03b31-3df7-4c28-bf05-409b2b943046\" class=\"colab-df-container\">\n",
              "    <div>\n",
              "<style scoped>\n",
              "    .dataframe tbody tr th:only-of-type {\n",
              "        vertical-align: middle;\n",
              "    }\n",
              "\n",
              "    .dataframe tbody tr th {\n",
              "        vertical-align: top;\n",
              "    }\n",
              "\n",
              "    .dataframe thead th {\n",
              "        text-align: right;\n",
              "    }\n",
              "</style>\n",
              "<table border=\"1\" class=\"dataframe\">\n",
              "  <thead>\n",
              "    <tr style=\"text-align: right;\">\n",
              "      <th></th>\n",
              "      <th>Prompt</th>\n",
              "      <th>Response</th>\n",
              "    </tr>\n",
              "  </thead>\n",
              "  <tbody>\n",
              "    <tr>\n",
              "      <th>0</th>\n",
              "      <td>What is the capital of France?</td>\n",
              "      <td>The capital of France is Paris.</td>\n",
              "    </tr>\n",
              "    <tr>\n",
              "      <th>1</th>\n",
              "      <td>Explain the water cycle.</td>\n",
              "      <td>The water cycle is the continuous movement of ...</td>\n",
              "    </tr>\n",
              "    <tr>\n",
              "      <th>2</th>\n",
              "      <td>Name the three branches of the U.S. government...</td>\n",
              "      <td>The three branches of the U.S. government are ...</td>\n",
              "    </tr>\n",
              "    <tr>\n",
              "      <th>3</th>\n",
              "      <td>Describe how photosynthesis works.</td>\n",
              "      <td>Photosynthesis is the process in which green p...</td>\n",
              "    </tr>\n",
              "    <tr>\n",
              "      <th>4</th>\n",
              "      <td>What are the main differences between classica...</td>\n",
              "      <td>The main differences between classical and qua...</td>\n",
              "    </tr>\n",
              "  </tbody>\n",
              "</table>\n",
              "</div>\n",
              "    <div class=\"colab-df-buttons\">\n",
              "\n",
              "  <div class=\"colab-df-container\">\n",
              "    <button class=\"colab-df-convert\" onclick=\"convertToInteractive('df-c3b03b31-3df7-4c28-bf05-409b2b943046')\"\n",
              "            title=\"Convert this dataframe to an interactive table.\"\n",
              "            style=\"display:none;\">\n",
              "\n",
              "  <svg xmlns=\"http://www.w3.org/2000/svg\" height=\"24px\" viewBox=\"0 -960 960 960\">\n",
              "    <path d=\"M120-120v-720h720v720H120Zm60-500h600v-160H180v160Zm220 220h160v-160H400v160Zm0 220h160v-160H400v160ZM180-400h160v-160H180v160Zm440 0h160v-160H620v160ZM180-180h160v-160H180v160Zm440 0h160v-160H620v160Z\"/>\n",
              "  </svg>\n",
              "    </button>\n",
              "\n",
              "  <style>\n",
              "    .colab-df-container {\n",
              "      display:flex;\n",
              "      gap: 12px;\n",
              "    }\n",
              "\n",
              "    .colab-df-convert {\n",
              "      background-color: #E8F0FE;\n",
              "      border: none;\n",
              "      border-radius: 50%;\n",
              "      cursor: pointer;\n",
              "      display: none;\n",
              "      fill: #1967D2;\n",
              "      height: 32px;\n",
              "      padding: 0 0 0 0;\n",
              "      width: 32px;\n",
              "    }\n",
              "\n",
              "    .colab-df-convert:hover {\n",
              "      background-color: #E2EBFA;\n",
              "      box-shadow: 0px 1px 2px rgba(60, 64, 67, 0.3), 0px 1px 3px 1px rgba(60, 64, 67, 0.15);\n",
              "      fill: #174EA6;\n",
              "    }\n",
              "\n",
              "    .colab-df-buttons div {\n",
              "      margin-bottom: 4px;\n",
              "    }\n",
              "\n",
              "    [theme=dark] .colab-df-convert {\n",
              "      background-color: #3B4455;\n",
              "      fill: #D2E3FC;\n",
              "    }\n",
              "\n",
              "    [theme=dark] .colab-df-convert:hover {\n",
              "      background-color: #434B5C;\n",
              "      box-shadow: 0px 1px 3px 1px rgba(0, 0, 0, 0.15);\n",
              "      filter: drop-shadow(0px 1px 2px rgba(0, 0, 0, 0.3));\n",
              "      fill: #FFFFFF;\n",
              "    }\n",
              "  </style>\n",
              "\n",
              "    <script>\n",
              "      const buttonEl =\n",
              "        document.querySelector('#df-c3b03b31-3df7-4c28-bf05-409b2b943046 button.colab-df-convert');\n",
              "      buttonEl.style.display =\n",
              "        google.colab.kernel.accessAllowed ? 'block' : 'none';\n",
              "\n",
              "      async function convertToInteractive(key) {\n",
              "        const element = document.querySelector('#df-c3b03b31-3df7-4c28-bf05-409b2b943046');\n",
              "        const dataTable =\n",
              "          await google.colab.kernel.invokeFunction('convertToInteractive',\n",
              "                                                    [key], {});\n",
              "        if (!dataTable) return;\n",
              "\n",
              "        const docLinkHtml = 'Like what you see? Visit the ' +\n",
              "          '<a target=\"_blank\" href=https://colab.research.google.com/notebooks/data_table.ipynb>data table notebook</a>'\n",
              "          + ' to learn more about interactive tables.';\n",
              "        element.innerHTML = '';\n",
              "        dataTable['output_type'] = 'display_data';\n",
              "        await google.colab.output.renderOutput(dataTable, element);\n",
              "        const docLink = document.createElement('div');\n",
              "        docLink.innerHTML = docLinkHtml;\n",
              "        element.appendChild(docLink);\n",
              "      }\n",
              "    </script>\n",
              "  </div>\n",
              "\n",
              "\n",
              "<div id=\"df-26d43858-3f03-4a92-8c11-82ca15ae77df\">\n",
              "  <button class=\"colab-df-quickchart\" onclick=\"quickchart('df-26d43858-3f03-4a92-8c11-82ca15ae77df')\"\n",
              "            title=\"Suggest charts\"\n",
              "            style=\"display:none;\">\n",
              "\n",
              "<svg xmlns=\"http://www.w3.org/2000/svg\" height=\"24px\"viewBox=\"0 0 24 24\"\n",
              "     width=\"24px\">\n",
              "    <g>\n",
              "        <path d=\"M19 3H5c-1.1 0-2 .9-2 2v14c0 1.1.9 2 2 2h14c1.1 0 2-.9 2-2V5c0-1.1-.9-2-2-2zM9 17H7v-7h2v7zm4 0h-2V7h2v10zm4 0h-2v-4h2v4z\"/>\n",
              "    </g>\n",
              "</svg>\n",
              "  </button>\n",
              "\n",
              "<style>\n",
              "  .colab-df-quickchart {\n",
              "      --bg-color: #E8F0FE;\n",
              "      --fill-color: #1967D2;\n",
              "      --hover-bg-color: #E2EBFA;\n",
              "      --hover-fill-color: #174EA6;\n",
              "      --disabled-fill-color: #AAA;\n",
              "      --disabled-bg-color: #DDD;\n",
              "  }\n",
              "\n",
              "  [theme=dark] .colab-df-quickchart {\n",
              "      --bg-color: #3B4455;\n",
              "      --fill-color: #D2E3FC;\n",
              "      --hover-bg-color: #434B5C;\n",
              "      --hover-fill-color: #FFFFFF;\n",
              "      --disabled-bg-color: #3B4455;\n",
              "      --disabled-fill-color: #666;\n",
              "  }\n",
              "\n",
              "  .colab-df-quickchart {\n",
              "    background-color: var(--bg-color);\n",
              "    border: none;\n",
              "    border-radius: 50%;\n",
              "    cursor: pointer;\n",
              "    display: none;\n",
              "    fill: var(--fill-color);\n",
              "    height: 32px;\n",
              "    padding: 0;\n",
              "    width: 32px;\n",
              "  }\n",
              "\n",
              "  .colab-df-quickchart:hover {\n",
              "    background-color: var(--hover-bg-color);\n",
              "    box-shadow: 0 1px 2px rgba(60, 64, 67, 0.3), 0 1px 3px 1px rgba(60, 64, 67, 0.15);\n",
              "    fill: var(--button-hover-fill-color);\n",
              "  }\n",
              "\n",
              "  .colab-df-quickchart-complete:disabled,\n",
              "  .colab-df-quickchart-complete:disabled:hover {\n",
              "    background-color: var(--disabled-bg-color);\n",
              "    fill: var(--disabled-fill-color);\n",
              "    box-shadow: none;\n",
              "  }\n",
              "\n",
              "  .colab-df-spinner {\n",
              "    border: 2px solid var(--fill-color);\n",
              "    border-color: transparent;\n",
              "    border-bottom-color: var(--fill-color);\n",
              "    animation:\n",
              "      spin 1s steps(1) infinite;\n",
              "  }\n",
              "\n",
              "  @keyframes spin {\n",
              "    0% {\n",
              "      border-color: transparent;\n",
              "      border-bottom-color: var(--fill-color);\n",
              "      border-left-color: var(--fill-color);\n",
              "    }\n",
              "    20% {\n",
              "      border-color: transparent;\n",
              "      border-left-color: var(--fill-color);\n",
              "      border-top-color: var(--fill-color);\n",
              "    }\n",
              "    30% {\n",
              "      border-color: transparent;\n",
              "      border-left-color: var(--fill-color);\n",
              "      border-top-color: var(--fill-color);\n",
              "      border-right-color: var(--fill-color);\n",
              "    }\n",
              "    40% {\n",
              "      border-color: transparent;\n",
              "      border-right-color: var(--fill-color);\n",
              "      border-top-color: var(--fill-color);\n",
              "    }\n",
              "    60% {\n",
              "      border-color: transparent;\n",
              "      border-right-color: var(--fill-color);\n",
              "    }\n",
              "    80% {\n",
              "      border-color: transparent;\n",
              "      border-right-color: var(--fill-color);\n",
              "      border-bottom-color: var(--fill-color);\n",
              "    }\n",
              "    90% {\n",
              "      border-color: transparent;\n",
              "      border-bottom-color: var(--fill-color);\n",
              "    }\n",
              "  }\n",
              "</style>\n",
              "\n",
              "  <script>\n",
              "    async function quickchart(key) {\n",
              "      const quickchartButtonEl =\n",
              "        document.querySelector('#' + key + ' button');\n",
              "      quickchartButtonEl.disabled = true;  // To prevent multiple clicks.\n",
              "      quickchartButtonEl.classList.add('colab-df-spinner');\n",
              "      try {\n",
              "        const charts = await google.colab.kernel.invokeFunction(\n",
              "            'suggestCharts', [key], {});\n",
              "      } catch (error) {\n",
              "        console.error('Error during call to suggestCharts:', error);\n",
              "      }\n",
              "      quickchartButtonEl.classList.remove('colab-df-spinner');\n",
              "      quickchartButtonEl.classList.add('colab-df-quickchart-complete');\n",
              "    }\n",
              "    (() => {\n",
              "      let quickchartButtonEl =\n",
              "        document.querySelector('#df-26d43858-3f03-4a92-8c11-82ca15ae77df button');\n",
              "      quickchartButtonEl.style.display =\n",
              "        google.colab.kernel.accessAllowed ? 'block' : 'none';\n",
              "    })();\n",
              "  </script>\n",
              "</div>\n",
              "\n",
              "    </div>\n",
              "  </div>\n"
            ],
            "application/vnd.google.colaboratory.intrinsic+json": {
              "type": "dataframe",
              "variable_name": "dataset",
              "summary": "{\n  \"name\": \"dataset\",\n  \"rows\": 50,\n  \"fields\": [\n    {\n      \"column\": \"Prompt\",\n      \"properties\": {\n        \"dtype\": \"string\",\n        \"num_unique_values\": 50,\n        \"samples\": [\n          \"Describe the climate and geography of the Sahara Desert.\",\n          \"What are the ethical considerations in animal testing for medical research?\",\n          \"Discuss the concpt of free will versus determinism.\"\n        ],\n        \"semantic_type\": \"\",\n        \"description\": \"\"\n      }\n    },\n    {\n      \"column\": \"Response\",\n      \"properties\": {\n        \"dtype\": \"string\",\n        \"num_unique_values\": 50,\n        \"samples\": [\n          \"The Sahara Desert has an exceptionally dry environment, with daytime highs of over 100 degrees Celsius and nighttime lows of around 60 degrees. It covers most of North Africa and is typified by long areas of dunes, rocky plateaus, gravel plains, and scattered mountains and lakes.\\r\\n\",\n          \"Animal testing in medical research raises ethical concerns regarding animal welfare, consent, and necessity. The 3Rs principle\\u2014Replacement, Reduction, and Refinement\\u2014guides ethical research by advocating for alternatives to animal use, minimizing the number of animals used, and refining procedures to reduce suffering. Ethical considerations also involve balancing scientific advancement with humane treatment, ensuring that animal testing is justified and that benefits outweigh ethical costs.\\r\\n\",\n          \"The debate between free will and determinism centers on whether humans have the ability to make choices independent of external forces or if every action is predetermined by factors such as biology and environment. Proponents of free will argue that individuals can make conscious decisions, reflecting personal autonomy. Determinists, however, claim that all events, including human actions, are the result of preceding causes. Compatibilists attempt to reconcile the two by suggesting that free will is compatible with determinism, arguing that people can still be responsible for their actions even if they are determined by prior states.\\r\\n\"\n        ],\n        \"semantic_type\": \"\",\n        \"description\": \"\"\n      }\n    }\n  ]\n}"
            }
          },
          "metadata": {},
          "execution_count": 5
        }
      ],
      "source": [
        "import pandas as pd\n",
        "\n",
        "dataset = pd.read_csv(\"PromptDataset.csv\") # paste the path in these quotes\n",
        "dataset.head()"
      ]
    },
    {
      "cell_type": "markdown",
      "source": [
        "### Dataset Splitting"
      ],
      "metadata": {
        "id": "GroRqdMkGLAi"
      }
    },
    {
      "cell_type": "code",
      "execution_count": null,
      "metadata": {
        "id": "9LMeaoooIlCN"
      },
      "outputs": [],
      "source": [
        "import sklearn\n",
        "from sklearn.model_selection import train_test_split"
      ]
    },
    {
      "cell_type": "code",
      "execution_count": null,
      "metadata": {
        "colab": {
          "base_uri": "https://localhost:8080/"
        },
        "id": "OybuPZyk6Rza",
        "outputId": "9a4fa337-33c8-44de-8604-7f00060b0dad"
      },
      "outputs": [
        {
          "output_type": "stream",
          "name": "stdout",
          "text": [
            "Train/validation/test split completed. Files saved as 'PromptDataset_train.csv', 'PromptDataset_val.csv', and 'PromptDataset_test.csv'.\n"
          ]
        }
      ],
      "source": [
        "from sklearn.model_selection import train_test_split\n",
        "\n",
        "# 80% training, 10% validation, and 10% test\n",
        "train_size = 0.8\n",
        "val_size = 0.1\n",
        "test_size = 0.1\n",
        "\n",
        "train_df, temp_df = train_test_split(dataset, train_size=train_size, random_state=42)\n",
        "val_df, test_df = train_test_split(temp_df, test_size=test_size / (val_size + test_size), random_state=42)\n",
        "\n",
        "# separate each dataset in a separate file\n",
        "train_df.to_csv('PromptDataset_train.csv', index=False)\n",
        "val_df.to_csv('PromptDataset_val.csv', index=False)\n",
        "test_df.to_csv('PromptDataset_test.csv', index=False)\n",
        "\n",
        "print(\"Train/validation/test split completed. Files saved as 'PromptDataset_train.csv', 'PromptDataset_val.csv', and 'PromptDataset_test.csv'.\")"
      ]
    },
    {
      "cell_type": "code",
      "execution_count": null,
      "metadata": {
        "colab": {
          "base_uri": "https://localhost:8080/"
        },
        "id": "SaAw-wXpn8np",
        "outputId": "c6703ecc-39b1-47da-f262-7455fb8b7eba"
      },
      "outputs": [
        {
          "output_type": "stream",
          "name": "stdout",
          "text": [
            "Columns in the DataFrame: Index(['Prompt', 'Response'], dtype='object')\n",
            "                                              Prompt  \\\n",
            "0  Discuss the concpt of free will versus determi...   \n",
            "1  Discuss the impact of social media on mental h...   \n",
            "2  Describe the cultural impact of the Beatles on...   \n",
            "3  How can you prioritize tasks when you have mul...   \n",
            "4  How do internships benefit students in their c...   \n",
            "\n",
            "                                            Response  \n",
            "0  The debate between free will and determinism c...  \n",
            "1  Social media has a huge impact on mental healt...  \n",
            "2  The Beatles had a profound cultural impact on ...  \n",
            "3  I prioritize tasks when I have multiple deadli...  \n",
            "4  Internships benefit students in their career d...  \n",
            "Prompt      Discuss the concpt of free will versus determi...\n",
            "Response    The debate between free will and determinism c...\n",
            "Name: 0, dtype: object\n"
          ]
        }
      ],
      "source": [
        "# Load the validation DataFrame\n",
        "val_df = pd.read_csv('PromptDataset_val.csv')\n",
        "\n",
        "# Print column names to verify\n",
        "print(\"Columns in the DataFrame:\", val_df.columns)\n",
        "\n",
        "# Check the first few rows to confirm correct data loading\n",
        "print(val_df.head())\n",
        "\n",
        "# Select a specific row (replace 0 with the desired row index)\n",
        "row = val_df.iloc[0]\n",
        "reference_answer = row\n",
        "\n",
        "print(reference_answer) # Print to verify"
      ]
    },
    {
      "cell_type": "markdown",
      "metadata": {
        "id": "KDSNTfGOCbiG"
      },
      "source": [
        "## Baseline"
      ]
    },
    {
      "cell_type": "code",
      "execution_count": null,
      "metadata": {
        "colab": {
          "base_uri": "https://localhost:8080/"
        },
        "id": "o2LH1NiTEOB7",
        "outputId": "e8b13f37-8c4d-4bf6-ef84-37c408744975"
      },
      "outputs": [
        {
          "output_type": "stream",
          "name": "stdout",
          "text": [
            "Requirement already satisfied: openai in /usr/local/lib/python3.10/dist-packages (1.44.1)\n",
            "Requirement already satisfied: anyio<5,>=3.5.0 in /usr/local/lib/python3.10/dist-packages (from openai) (3.7.1)\n",
            "Requirement already satisfied: distro<2,>=1.7.0 in /usr/lib/python3/dist-packages (from openai) (1.7.0)\n",
            "Requirement already satisfied: httpx<1,>=0.23.0 in /usr/local/lib/python3.10/dist-packages (from openai) (0.27.2)\n",
            "Requirement already satisfied: jiter<1,>=0.4.0 in /usr/local/lib/python3.10/dist-packages (from openai) (0.5.0)\n",
            "Requirement already satisfied: pydantic<3,>=1.9.0 in /usr/local/lib/python3.10/dist-packages (from openai) (2.8.2)\n",
            "Requirement already satisfied: sniffio in /usr/local/lib/python3.10/dist-packages (from openai) (1.3.1)\n",
            "Requirement already satisfied: tqdm>4 in /usr/local/lib/python3.10/dist-packages (from openai) (4.66.5)\n",
            "Requirement already satisfied: typing-extensions<5,>=4.11 in /usr/local/lib/python3.10/dist-packages (from openai) (4.12.2)\n",
            "Requirement already satisfied: idna>=2.8 in /usr/local/lib/python3.10/dist-packages (from anyio<5,>=3.5.0->openai) (3.8)\n",
            "Requirement already satisfied: exceptiongroup in /usr/local/lib/python3.10/dist-packages (from anyio<5,>=3.5.0->openai) (1.2.2)\n",
            "Requirement already satisfied: certifi in /usr/local/lib/python3.10/dist-packages (from httpx<1,>=0.23.0->openai) (2024.8.30)\n",
            "Requirement already satisfied: httpcore==1.* in /usr/local/lib/python3.10/dist-packages (from httpx<1,>=0.23.0->openai) (1.0.5)\n",
            "Requirement already satisfied: h11<0.15,>=0.13 in /usr/local/lib/python3.10/dist-packages (from httpcore==1.*->httpx<1,>=0.23.0->openai) (0.14.0)\n",
            "Requirement already satisfied: annotated-types>=0.4.0 in /usr/local/lib/python3.10/dist-packages (from pydantic<3,>=1.9.0->openai) (0.7.0)\n",
            "Requirement already satisfied: pydantic-core==2.20.1 in /usr/local/lib/python3.10/dist-packages (from pydantic<3,>=1.9.0->openai) (2.20.1)\n"
          ]
        }
      ],
      "source": [
        "!pip install openai"
      ]
    },
    {
      "cell_type": "code",
      "source": [
        "from openai import OpenAI\n",
        "\n",
        "# Initialize the OpenAI client with your API key\n",
        "client = OpenAI(api_key='api-key')\n"
      ],
      "metadata": {
        "id": "9BhwMSFjIhXU"
      },
      "execution_count": null,
      "outputs": []
    },
    {
      "cell_type": "code",
      "execution_count": null,
      "metadata": {
        "colab": {
          "base_uri": "https://localhost:8080/"
        },
        "id": "us6QMEQeIWrB",
        "outputId": "8cd33335-a445-4d71-c99f-d27222848c7a"
      },
      "outputs": [
        {
          "name": "stdout",
          "output_type": "stream",
          "text": [
            "[\n",
            "\"The concept of heroism in Homer’s *The Iliad* and J.K. Rowling's *Harry Potter* series reflects differing values, cultural contexts, and character motivations, showcasing how the notion of heroism evolves across time and literature.  In *The Iliad*, heroism is closely tied to martial prowess, personal honor, and the pursuit of glory (kleos). The heroes, such as Achilles and Hector, embody the warrior ethos of ancient Greece, where valor in battle and loyalty to one's comrades and fate are paramount. Their identity and legacy are often defined by their actions in war, and much of their heroism is linked to their willingness to confront death. The conflict between personal desires and communal responsibilities, as seen in Achilles’ struggle with his anger over Agamemnon, illustrates the complexities of heroism in this context. The emphasis on fate and the intervention of the gods also shapes the heroic narrative, suggesting that while personal strength is crucial, external forces significantly affect one's destiny.  In contrast, *Harry Potter* presents heroism as multifaceted and rooted in moral choices, friendship, and the fight against oppression. Heroes like Harry, Hermione, and Ron are defined not by their physical power but by their bravery in standing up for what is right and their willingness to sacrifice for others. Hogwarts, as a place of learning, emphasizes intellectual and emotional growth; the characters evolve by facing their fears and confronting moral dilemmas. The power of love, as symbolized by Harry's mother's sacrifice, plays a central role in the series’ notion of heroism. Furthermore, the series critiques traditional notions of heroism by showing that true courage often lies in vulnerability, empathy, and the strength of community rather than individual combat prowess.  In summary, while *The Iliad* centers on heroism as a means of achieving eternal glory through valor in battle, *Harry Potter* redefines heroism through relational dynamics, moral complexity, and the importance of choice over fate. The evolution from individualistic warrior cultures to collaborative resistance against evil reflects broader societal shifts in the understanding of what it means to be a hero.\",\n",
            "\"Jane Austen's 'Pride and Prejudice' explores several primary themes that resonate throughout the novel. Here are some of the most significant ones:  1. **Pride and Prejudice**: The themes of pride and prejudice are central to the story. Characters such as Elizabeth Bennet and Mr. Darcy must confront their own pride and the prejudices they hold, which affects their relationships and judgments of one another.  2. **Social Class and Inequality**: The novel examines the rigid class distinctions of early 19th-century England. Issues of wealth, social status, and class prejudices play a crucial role in the characters' interactions and motivations, particularly in the context of marriage.  3. **Marriage and Relationships**: Austen critiques the institution of marriage, portraying various unions and their motivations, such as love, financial security, and social advantage. The diverse relationships in the novel highlight different ideals of romance and partnership.  4. **Individuality vs. Societal Expectations**: The tension between personal desires and societal pressures is evident throughout the novel. Elizabeth represents the struggle for individuality and self-assertion in a society that often prioritizes conventions over personal happiness.  5. **Characterization and Growth**: Character development is a vital theme in the novel, particularly through the dynamic growth of Elizabeth and Darcy. Their journey toward mutual understanding and respect emphasizes the importance of self-awareness and moral integrity.  6. **Folly and Silliness**: Austen often uses humor and irony to critique the foolishness and vanity of various characters, particularly those concerned with social climbing or superficial judgments.  7. **Family and Relationships**: The importance of family dynamics and relationships is a recurring aspect, with the Bennet family presenting a range of values and behaviors that influence the characters' decisions and fates.  These themes intertwine to create a rich narrative that not only captures the intricacies of personal relationships but also provides a nuanced commentary on the social dynamics of Austen's time.\",\n",
            "\"Niels Bohr was one of the foundational figures in the development of quantum mechanics, and he introduced several key principles that helped shape our understanding of atomic and subatomic behavior. Here are some of the main principles associated with Bohr's contributions:  1. **Quantization of Energy Levels**: Bohr proposed that electrons in atoms occupy discrete energy levels, or orbits, rather than any value of energy. This means that an electron can only exist in certain defined states, and transitions between these states involve the absorption or emission of specific quanta of energy (photons).  2. **Bohr Model of the Atom**: In his 1913 model of the hydrogen atom, Bohr suggested that electrons move in circular orbits around the nucleus, and that the angular momentum of the electrons is quantized. Specifically, he stated that the angular momentum of an electron in a given orbit is an integer multiple of \\(\\hbar = \\frac{h}{2\\pi}\\), where \\(h\\) is Planck's constant.  3. **Stability of Electron Orbits**: Bohr proposed that while electrons occupy these quantized orbits, they do not radiate energy, which would otherwise cause them to spiral into the nucleus. Instead, the allowed orbits are stable, and energy is only emitted or absorbed when an electron transitions between these orbits.  4. **Wave-Particle Duality**: Although this concept was developed more fully by later physicists, Bohr contributed to the idea that particles such as electrons exhibit both particle-like and wave-like properties. This duality is fundamental to quantum mechanics and was demonstrated in various experiments, such as the double-slit experiment.  5. **Complementarity Principle**: Bohr introduced the principle of complementarity, which states that objects can exhibit particle-like or wave-like behavior, but not both simultaneously. This principle emphasizes the idea that different experimental setups can reveal different aspects of a system, and both descriptions are necessary for a complete understanding.  6. **Uncertainty Principle**: While the uncertainty principle is primarily associated with Werner Heisenberg, Bohr's work laid the groundwork for its understanding. The principle states that certain pairs of physical properties, like position and momentum, cannot both be precisely measured at the same time. Bohr's interpretations of quantum mechanics supported this intrinsic limitation in our ability to predict a system's behavior.  7. **Correspondence Principle**: Bohr introduced the correspondence principle, which states that the behavior of quantum systems must align with classical physics when scaled to large systems or high quantum numbers. This principle helps connect quantum mechanics with classical mechanics and ensures that the theory supports familiar classical predictions under appropriate conditions.  These principles reflect Bohr's groundbreaking contributions to quantum mechanics, particularly in the understanding of atomic structure and the behavior of subatomic particles. They laid the foundation for further developments in the field and continue to be fundamental in understanding quantum phenomena.\",\n",
            "\"The architecture of ancient Rome and ancient Greece shares some similarities but is distinct in various ways, reflecting the different cultural values, technological advancements, and purposes of buildings in their respective societies. Here are some key comparisons:  ### 1. **Stylistic Elements**  - **Greece:** Ancient Greek architecture is characterized by its use of columns and pediments, with three main orders: Doric, Ionic, and Corinthian. Greek temples were predominantly constructed in stone, featuring open-air spaces and a focus on symmetry and proportion, with structures like the Parthenon exemplifying these features.  - **Rome:** Roman architecture borrowed heavily from Greek styles but introduced new elements and innovations. The use of the arch, vault, and dome became prominent, allowing for larger and more complex structures. The Romans developed their own variations of the Greek column orders and introduced the Composite order, which combined elements of the Ionic and Corinthian styles.  ### 2. **Materials and Construction Techniques**  - **Greece:** Greek architecture primarily used local stone, particularly marble. Structures were often built with precision, and columns were typically fluted, enhancing their aesthetic appeal.  - **Rome:** Romans utilized a wider variety of materials, including concrete, which allowed for more flexible designs and the construction of larger buildings. Their knowledge of engineering enabled them to create impressive structures like aqueducts, arenas, and basilicas that utilized the arch to support larger spans.  ### 3. **Building Types and Functionality**  - **Greece:** Greek architecture was heavily focused on temples and public spaces like agoras, which served to promote civic life and religion. Buildings were often designed for worship and communal gatherings, with a strong emphasis on aesthetics and harmony in their environment.  - **Rome:** Roman architecture included not only temples but also a broader range of structures such as basilicas (public buildings for law and business), forums (public squares), amphitheaters (like the Colosseum for entertainment), and baths. The focus was more on civic utility and engineering achievements, providing facilities for public infrastructure, entertainment, and greater social interaction.  ### 4. **Urban Planning**  - **Greece:** Greek cities were often organized around the acropolis (a high city), with temples and public spaces integrated into the landscape. Considerable emphasis was on the relationship between buildings and their natural surroundings.  - **Rome:** Ancient Rome developed a grid-based urban layout, with forums and public buildings centrally located. Roman cities often included complex road networks, aqueducts, and fortifications, reflecting a more organized approach to urban planning.  ### 5. **Cultural Influence**  - **Greece:** Architecture was closely tied to religious beliefs, civic pride, and artistic expression. Greek structures often sought to embody ideals of beauty, perfection, and the human experience.  - **Rome:** Roman architecture reflected the empire's values of power, authority, and public welfare. Their monumental buildings were designed to impress and convey the might of the Roman state while also serving practical functions for the populace.  In summary, while Roman architecture was influenced by Greek designs, it evolved into a distinct style that emphasized engineering innovation, functionality, and grandeur, reflecting the broader objectives and characteristics of Roman society.\",\n",
            "\"The rise of artificial intelligence (AI) in the 21st century can be attributed to a combination of several major factors:  1. **Advancements in Computing Power**: The exponential increase in computing power, particularly with the development of GPUs (Graphics Processing Units) and TPUs (Tensor Processing Units), has enabled more complex algorithms and larger datasets to be processed efficiently. This has significantly enhanced machine learning capabilities, allowing for deeper neural networks.  2. **Big Data**: The explosion of data generated from various sources—such as social media, IoT devices, and business transactions—has provided the raw material needed for training AI models. Large datasets allow algorithms to learn patterns more effectively, leading to improved performance.  3. **Improved Algorithms**: Significant advancements in algorithms, particularly in machine learning and deep learning, have contributed to the effectiveness of AI systems. Techniques such as convolutional neural networks (CNNs) and recurrent neural networks (RNNs) have enabled breakthroughs in fields like image and speech recognition.  4. **Open Source Frameworks and Tools**: The availability of open-source AI frameworks and libraries (such as TensorFlow, PyTorch, and Keras) has democratized access to AI technology, allowing researchers, developers, and enthusiasts to experiment and innovate without needing extensive resources.  5. **Increased Investment**: Both public and private investments in AI research and development have surged over the past decade. Tech companies, startups, and governments are allocating substantial resources to explore AI applications, driving rapid advancements and applications across various sectors.  6. **Cloud Computing**: The rise of cloud computing platforms has made it cost-effective and scalable for organizations to deploy AI capabilities without needing extensive on-premises infrastructure. It allows companies of all sizes to harness AI technology for their operations.  7. **Interdisciplinary Collaboration**: AI has benefitted from the convergence of multiple fields, including computer science, neuroscience, mathematics, and cognitive science. Researchers from diverse disciplines are collaborating, leading to innovative approaches and solutions.  8. **Growing Demand for Automation**: Industries are increasingly seeking efficiency and cost reduction, which has led to a greater demand for automation powered by AI. From manufacturing to customer service, businesses are turning to AI to streamline operations and enhance productivity.  9. **Ethical and Social Considerations**: As societies recognize the potential and challenges of AI, discussions around responsible AI, ethics, and regulations have emerged. This dialogue is influencing how AI is developed, ensuring greater accountability and transparency in AI deployment.  10. **Global Competition**: Nations and corporations recognize the strategic importance of AI for economic growth and global competitiveness. This drive has initiated various national strategies and initiatives focused on AI development and integration into key sectors.  These factors, combined with the ongoing research and development in the field, are creating an environment where AI technology is rapidly advancing and being integrated into everyday life across multiple sectors.\",\n",
            "\"The traditional Japanese tea ceremony, known as \"chanoyu,\" \"sado,\" or \"chado,\" is a highly ritualized practice centered around the preparation and consumption of matcha, powdered green tea. This art form embodies several key features and holds considerable cultural significance within Japanese society.  ### Key Features  1. **Ritual and Form**:    - The tea ceremony follows a precise sequence of steps, including the preparation of tea, the serving, and the drinking, all infused with careful attention to detail.    - Every action, from the way utensils are handled to how tea is poured, is performed with intentionality and mindfulness.  2. **Utensils**:    - Essential tools used in the ceremony include the tea bowl (chawan), tea whisk (chasen), tea scoop (chashaku), and the tea container (natsume).    - Each item is often selected and displayed in line with seasonal themes, emphasizing aesthetics and harmony.  3. **Setting**:    - The ceremony typically takes place in a tatami-mat room or a tea house, deliberately designed to create an atmosphere of tranquility and simplicity.    - The space may feature elements of nature such as gardens or a view of the changing seasons, reinforcing the connection to the natural world.  4. **Seasonality and Aesthetics**:    - The tea ceremony is closely tied to the seasons. Seasonal flowers, the choice of utensils, and the type of sweets served reflect the time of year.    - Aesthetic principles, such as wabi-sabi (the beauty of imperfection and transience), are central to the experience.  5. **Zen Influence**:    - Drawing heavily from Zen Buddhism, the tea ceremony emphasizes mindfulness, a sense of presence, and the beauty of simplicity.    - It encourages participants to focus on the moment, fostering a meditative state.  6. **Hospitality (Omotenashi)**:    - The spirit of hospitality and respect (known as omotenashi) is paramount. The host carefully prepares for the guests' comfort, showing thoughtfulness in every detail.    - Guests reciprocate this spirit by showing gratitude and appreciation.  ### Cultural Significance  1. **Philosophical and Spiritual Reflection**:    - The tea ceremony serves as a reflection of broader Japanese cultural values, including harmony, respect, purity, and tranquility.     - It promotes introspection and can be seen as a form of spiritual practice.  2. **Social Bonding**:    - The ceremony is a communal activity that fosters bonds between participants. It emphasizes the importance of sharing a moment together, creating connections through the shared experience of tea.  3. **Artistry and Craftsmanship**:    - The ceremony showcases the beauty of Japanese craftsmanship, from the handmade pottery to the carefully curated seasonal elements.    - It reflects a dedication to preserving traditional arts and aesthetics in contemporary society.  4. **Cultural Heritage**:    - The tea ceremony is an integral part of Japanese heritage, carrying historical significance and practices that have evolved over centuries.    - It serves as an ambassador of Japanese culture, gaining interest and appreciation worldwide.  5. **Education and Transmission**:    - Learning the tea ceremony is often a formalized process, with schools dedicated to its practice, ensuring the transmission of knowledge and skills to future generations.  In summary, the traditional Japanese tea ceremony is a profound cultural practice that encapsulates aesthetic values, mindfulness, and social interaction, contributing significantly to Japan's cultural identity and heritage.\",\n",
            "\"Urbanization has profound economic impacts on rural communities. Here are some of the primary effects:  1. **Migration and Labor Supply Changes**: Urbanization often leads to a significant outflow of young individuals from rural areas seeking better job opportunities in cities. This migration can result in labor shortages in agriculture and other traditional rural sectors, altering the local economy.  2. **Decline in Agricultural Workforce**: As more people move to urban areas, the agricultural sector may struggle to find sufficient labor. This can result in decreased productivity and efficiency in farming, as well as a shift towards mechanization and technology to compensate for labor shortages.  3. **Economic Diversification**: Urbanization can encourage rural communities to diversify their economies. While some may focus more on agriculture, others might develop tourism, small manufacturing, or service industries that cater to urban dwellers.  4. **Increased Demand for Goods and Services**: The growth of urban centers can create demand for agricultural and other products produced in rural areas. This can lead to higher prices and increased income for remaining rural producers.  5. **Investment and Infrastructure Development**: Urbanization often leads to increased investment in transportation and communication infrastructure, which can benefit rural areas by improving access to markets and services. However, it can also mean that rural regions are left behind if too much investment flows to urban centers.  6. **Real Estate and Land Use Changes**: As cities expand, the demand for land can increase, causing values to rise. This can benefit some rural landowners but may also lead to issues such as land speculation and displacement of small-scale farmers.  7. **Economic Disparities**: Urbanization can exacerbate economic inequalities between urban and rural areas. While cities may prosper, rural areas might struggle to keep pace, leading to economic stagnation or decline.  8. **Access to Services**: Urbanization can affect the availability and quality of services in rural areas, such as healthcare, education, and technology. While some rural regions may benefit from better access due to urban demand, others may experience diminishing services as populations decline.  9. **Innovation and Skill Transfer**: Urban centers are often hubs of innovation, and as people migrate, they may bring back new skills and ideas to rural areas. This knowledge transfer can potentially lead to modernization of rural industries and agricultural practices.  10. **Environmental Impacts**: Increased urbanization can lead to changes in land use practices that may negatively affect rural environments. However, it can also prompt initiatives to improve sustainability and conservation practices in response to urban demands.  Overall, the economic impacts of urbanization on rural communities can be both positive and negative, shaping the future dynamics of rural economies in various ways. The specific effects often depend on local policies, governance, and the adaptability of rural communities to the changing landscape.\",\n",
            "\"The concept of the social contract is a foundational idea in political philosophy, and it's interpreted differently by various thinkers, notably Thomas Hobbes and Jean-Jacques Rousseau. Here's a comparison of their views:  ### Thomas Hobbes  1. **State of Nature**: Hobbes describes the state of nature as a state of perpetual war, where individuals act solely out of self-preservation and where life is \"solitary, poor, nasty, brutish, and short.\" In this state, there are no moral constraints or laws, leading to constant fear and insecurity.  2. **Social Contract**: For Hobbes, the social contract involves individuals collectively agreeing to surrender their rights to a sovereign authority in exchange for security and order. This sovereign, which can be a monarch or an assembly, holds absolute power to maintain peace and prevent the return to the chaotic state of nature.  3. **Nature of Authority**: Hobbes advocates for a strong, centralized authority (Leviathan) that possesses near-absolute power. The social contract is thus an agreement driven by self-interest and the necessity of survival, where the authority maintains peace and enforces laws.  4. **Individual Rights**: Once the social contract is established, individuals cannot justly revolt against the sovereign; their rights are limited by their commitment to the contract.  ### Jean-Jacques Rousseau  1. **State of Nature**: Rousseau paints a more optimistic picture of the state of nature, viewing it as a time when individuals were free, equal, and lived in harmony with each other and nature. He believes people were noble savages, uncorrupted by society.  2. **Social Contract**: Rousseau’s idea of the social contract is based on the concept of collective will. He argues that individuals come together to form a general will, which represents the collective interests of the community rather than individual self-serving interests. The social contract, therefore, is an agreement to form a political community.  3. **Nature of Authority**: Rousseau promotes a form of governance where the authority is derived from the consent of the governed and reflects the general will. This means that the government should act in the interest of the community, emphasizing civic freedom and equality.   4. **Individual Rights**: Rousseau's conception allows for the possibility of legitimate rebellion against authority if that authority does not reflect the general will. He stresses that true freedom is found not in isolation but in participation in a collective government that embodies the common good.  ### Summary of Differences  - **View of Human Nature**: Hobbes sees humans as selfish and prone to conflict, while Rousseau sees them as inherently good but corrupted by society. - **Nature of the Social Contract**: For Hobbes, it's about subjugating individual power to a sovereign for safety; for Rousseau, it's about creating a community that reflects the general will. - **Authority and Rights**: Hobbes supports absolute authority for stability, while Rousseau emphasizes democratic participation and the right to revolt against unjust governance.   These foundational differences illustrate contrasting views on human nature, the essence of governance, and the role of the individual within society.\",\n",
            "\"The development of renewable energy technologies has progressed significantly over the past few decades, marked by several key milestones. Here are some of the most noteworthy:  ### 1970s - Early Developments 1. **Oil Crisis (1973)**: The oil embargo led to increased interest in alternative energy sources, spurring research and investment in renewables. 2. **Creation of the Solar Energy Research Institute (SERI)**: Established in the U.S. in 1977 to focus on solar energy technology.  ### 1980s - Initial Commercialization 3. **First Commercial Wind Farms**: The early 1980s saw the installation of the first utility-scale wind farms, particularly in California, marking the start of wind energy commercialization. 4. **Advancements in Photovoltaics**: The efficiency of solar panels improved significantly, with the development of multicrystalline and thin-film technologies.  ### 1990s - Policy and Research Growth 5. **Energy Policy Act of 1992 (USA)**: This act encouraged the development of renewable energy technologies and led to incentives for wind and solar energy projects. 6. **Global Wind Energy Council (GWEC)**: Established in 2005 (but roots trace back to earlier efforts), this organization aimed to promote wind energy worldwide.  ### 2000s - Scaling Up 7. **Rapid Growth in Wind Energy**: By the late 2000s, wind energy installations soared globally, transitioning into one of the fastest-growing energy sectors. 8. **Solar PV Cost Reductions**: The cost of solar photovoltaic technology began to drop significantly (by as much as 80% by 2020), facilitating wider adoption.  ### 2010s - Technological Maturity and Expansion 9. **Paris Agreement (2015)**: Global commitment to limit greenhouse gas emissions led to accelerated investment in renewable energy. 10. **Growth of Distributed Energy Resources (DER)**: The emergence of decentralized energy systems, including residential solar and energy storage technologies, increased accessibility to renewables.  ### 2020s - Innovations and Integration 11. **Battery Storage Advances**: Enhancements in battery technology, particularly lithium-ion batteries, improved the ability to store renewable energy for use during non-generation periods. 12. **Hydrogen Economy Interest**: Renewables play a crucial role in producing green hydrogen, garnering significant interest for applications in transport and industry. 13. **Net-Zero Targets**: Many countries and corporations have committed to achieving net-zero emissions by mid-century, driving further investment in renewables and associated technologies.  ### Current Trends 14. **Smart Grids**: Development of smart grid technologies to integrate renewable energy sources more effectively into electricity networks. 15. **Geothermal and Marine Energy**: While historically less emphasized, there are ongoing efforts to harness geothermal and marine energy (wave and tidal) as viable sources of renewable energy.  These milestones represent the evolution of renewable energy technologies from initial experimentation to a central component of global energy systems, highlighting the importance of policy, technological advances, and market forces in driving progress in this field.\"\n",
            "]\n"
          ]
        }
      ],
      "source": [
        "from openai import OpenAI\n",
        "\n",
        "def visualize_chat(messages):\n",
        "    chat = []\n",
        "    for message in messages:\n",
        "        response = client.chat.completions.create(\n",
        "            # change to gpt-3.5-turbo\tfor GPT3.5 Turbo baseline results\n",
        "            model=\"gpt-4o-mini\",\n",
        "            messages=[{\"role\": \"user\", \"content\": message}],\n",
        "            stream=False,\n",
        "        )\n",
        "        chat.append(response.choices[0].message.content.replace(\"\\n\", \" \"))\n",
        "    return chat\n",
        "\n",
        "messages = [\n",
        "    \"How does the concept of 'heroism' differ in Homer’s 'The Iliad' and in J.K. Rowling's 'Harry Potter' series?\",\n",
        "    \"What are the primary themes explored in Jane Austen's 'Pride and Prejudice'?\",\n",
        "    \"What are the main principles of quantum mechanics as introduced by Niels Bohr?\",\n",
        "    \"How does the architecture of ancient Rome compare to that of ancient Greece?\",\n",
        "    \"What are the major factors contributing to the rise of artificial intelligence in the 21st century?\",\n",
        "    \"Describe the key features and cultural significance of traditional Japanese tea ceremonies.\",\n",
        "    \"What are the primary economic impacts of urbanization on rural communities?\",\n",
        "    \"How does the concept of 'social contract' in political philosophy differ between Hobbes and Rousseau?\",\n",
        "    \"What are the key milestones in the development of renewable energy technologies?\"\n",
        "]\n",
        "\n",
        "# Get the chat responses\n",
        "data = visualize_chat(messages)\n",
        "\n",
        "# Store the responses in a variable called `set`\n",
        "set = data\n",
        "\n",
        "# Print the `set` variable in the desired format\n",
        "print(\"[\\n\\\"\" + \"\\\",\\n\\\"\".join(set) + \"\\\"\\n]\")\n"
      ]
    },
    {
      "cell_type": "markdown",
      "metadata": {
        "id": "Nfeo7RmwACqS"
      },
      "source": [
        "## Fine-tuning"
      ]
    },
    {
      "cell_type": "code",
      "execution_count": null,
      "metadata": {
        "id": "I820WQSXJoEX"
      },
      "outputs": [],
      "source": [
        "import json\n",
        "\n",
        "def csv_to_jsonl(csv_file_path, jsonl_file_path):\n",
        "    # Load the CSV file into a DataFrame\n",
        "    dataset = pd.read_csv(csv_file_path)\n",
        "\n",
        "    # Open the JSONL file for writing\n",
        "    with open(jsonl_file_path, 'w') as jsonl_file:\n",
        "        for _, row in dataset.iterrows():\n",
        "            # Construct the JSON object for each row\n",
        "            json_obj = {\n",
        "                \"messages\": [\n",
        "                    {\"role\": \"user\", \"content\": row['Prompt']},\n",
        "                    {\"role\": \"assistant\", \"content\": row['Response']}\n",
        "                ]\n",
        "            }\n",
        "            # Write the JSON object to the JSONL file\n",
        "            jsonl_file.write(json.dumps(json_obj) + '\\n')\n",
        "\n",
        "    print(f\"CSV file '{csv_file_path}' converted to JSONL format and saved as '{jsonl_file_path}'.\")\n"
      ]
    },
    {
      "cell_type": "code",
      "execution_count": null,
      "metadata": {
        "colab": {
          "base_uri": "https://localhost:8080/"
        },
        "id": "1quxA7-oJqnJ",
        "outputId": "f8c2deb0-da1b-4425-f57b-78b6219dfcf6"
      },
      "outputs": [
        {
          "output_type": "stream",
          "name": "stdout",
          "text": [
            "CSV file 'PromptDataset_train.csv' converted to JSONL format and saved as 'PromptDataset_train.jsonl'.\n",
            "CSV file 'PromptDataset_test.csv' converted to JSONL format and saved as 'PromptDataset_test.jsonl'.\n"
          ]
        }
      ],
      "source": [
        "# Paths for the CSV and JSONL files\n",
        "csv_files = [\n",
        "    (\"PromptDataset_train.csv\", \"PromptDataset_train.jsonl\"),\n",
        "    (\"PromptDataset_test.csv\", \"PromptDataset_test.jsonl\")\n",
        "]\n",
        "\n",
        "# Convert each CSV file to JSONL format\n",
        "for csv_file_path, jsonl_file_path in csv_files:\n",
        "    csv_to_jsonl(csv_file_path, jsonl_file_path)\n"
      ]
    },
    {
      "cell_type": "code",
      "execution_count": null,
      "metadata": {
        "colab": {
          "base_uri": "https://localhost:8080/"
        },
        "id": "h278Kgh8Ju05",
        "outputId": "b16ed065-d963-4266-d4b5-ba8b5611bbfb"
      },
      "outputs": [
        {
          "output_type": "stream",
          "name": "stdout",
          "text": [
            "{\"messages\": [{\"role\": \"user\", \"content\": \"What are the seven continents of the world?\"}, {\"role\": \"assistant\", \"content\": \"The seven continents of the world are Asia, Africa, North America, South America, Europe, and Australia.\\r\"}]}\n",
            "{\"messages\": [{\"role\": \"user\", \"content\": \"What are the main differences between classical and quantum computing?\"}, {\"role\": \"assistant\", \"content\": \"The main differences between classical and quantum computing are the methods and speed of each type of computing. Classical computing uses bits to represent data for binary processing and quantum computing uses quantum properties of atomic and subatomic particles. Classical computing uses bits as the basic unit of information, which can be either 0 or 1, and linearly performs operations with stable and well-established error correction methods.  Quantum computing uses qubits, which can exist in a superposition of states, allowing for simultaneous calculations and solving specific problems more efficiently using quantum algorithms. However, quantum computing is more vulnerable to errors and requires more complex correction.\\r\"}]}\n",
            "{\"messages\": [{\"role\": \"user\", \"content\": \"How does the education system in the United States compare to India?\"}, {\"role\": \"assistant\", \"content\": \"The Indian education system is structured as 10+2, focusing heavily on academic performance and competitive exams, particularly in STEM fields. Recent reforms aim to incorporate holistic approaches, including vocational and digital skills. In contrast, Finland emphasizes student well-being, creativity, and minimal standardized testing. The U.S. offers flexibility in subject choice and values liberal arts and extracurricular activities, with options like AP courses and community colleges for broader education.\\r\"}]}\n",
            "{\"messages\": [{\"role\": \"user\", \"content\": \"What was the significance of the Magna Carta?\"}, {\"role\": \"assistant\", \"content\": \"Magna Carta was created in June 1215, the first written statement of the idea that the king and his government were subject to the law. It created guidelines that limited the monarch's authority and prepared the way for modern democracy. It also had an impact on several other constitutional texts, such as the Universal Declaration of Human Rights and the US Constitution.\\r\"}]}\n",
            "{\"messages\": [{\"role\": \"user\", \"content\": \"Describe how photosynthesis works.\"}, {\"role\": \"assistant\", \"content\": \"Photosynthesis is the process in which green plants, algae and some bacteria convert light energy into chemical energy to be used by the plant. This process can be divided into two main stages:\\nLight-dependent Reactions: Chlorophyll, a green pigment in the chloroplasts of plant cells, first absorbs light energy. The absorbed light energy then splits water molecules into protons (H+) and electrons (e-) with oxygen (02) as a byproduct. The electrons will travel through a series of proteins known as the electron transport chain, and their energy moves the protons. This creates a proton gradient which drives the synthesis of ATP (adenosine triphosphate) and NADPH (nicotinamide adenine dinucleotide phosphate). \\nLight-independent Reactions: The ATP energy and NADPH produced earlier is used to convert carbon dioxide into glucose, which can be used by the plant. \\nThe overall chemical equation for photosynthesis is 6CO2 + 6H2O + light energy -> C6H12O6 + 6O2.\\n\"}]}\n"
          ]
        }
      ],
      "source": [
        "!head -n 5 PromptDataset_train.jsonl"
      ]
    },
    {
      "cell_type": "code",
      "execution_count": null,
      "metadata": {
        "colab": {
          "base_uri": "https://localhost:8080/"
        },
        "id": "nTkyTS9pJxQb",
        "outputId": "d2b0e605-040f-4050-88a3-54c7606070e5"
      },
      "outputs": [
        {
          "output_type": "stream",
          "name": "stdout",
          "text": [
            "{\"messages\": [{\"role\": \"user\", \"content\": \"Explain the philosophy of utilitarianism.\"}, {\"role\": \"assistant\", \"content\": \"Utilitarianism is a consequentialist ethical theory that posits that the rightness or wrongness of actions is determined by their outcomes. People high in openness might appreciate utilitarianism\\u2019s innovative and flexible approach to morality, emphasizing the greatest happiness principle, which states that actions are morally right if they promote the greatest amount of happiness or pleasure for the greatest number of people. Those with high conscientiousness might be drawn to the theory\\u2019s structured method of evaluating actions based on their consequences. Utilitarianism requires an impartial consideration of the interests of all affected parties, which aligns with the agreeableness trait, as it involves empathy and concern for others' well-being. Extraverts might find the social aspect of maximizing overall happiness appealing, as it often involves collaborative efforts to improve collective welfare. Finally, individuals low in neuroticism may appreciate utilitarianism\\u2019s focus on rational decision-making and minimizing suffering, as it aims to create a balanced and stable outcome for the greatest number.\\r\"}]}\n",
            "{\"messages\": [{\"role\": \"user\", \"content\": \"What are the ethical considerations in animal testing for medical research?\"}, {\"role\": \"assistant\", \"content\": \"Animal testing in medical research raises ethical concerns regarding animal welfare, consent, and necessity. The 3Rs principle\\u2014Replacement, Reduction, and Refinement\\u2014guides ethical research by advocating for alternatives to animal use, minimizing the number of animals used, and refining procedures to reduce suffering. Ethical considerations also involve balancing scientific advancement with humane treatment, ensuring that animal testing is justified and that benefits outweigh ethical costs.\\r\"}]}\n",
            "{\"messages\": [{\"role\": \"user\", \"content\": \"How do you deal with conflicts in personal relationships?\"}, {\"role\": \"assistant\", \"content\": \"In personal relationships I deal with conflicts by first taking a step back and analyzing the situation. From your perspective, you might believe you are right, but the other person will think the same thing. For example, if your mom doesn\\u2019t let you go to a party, you might think she is being unfair and you think it\\u2019s not a big deal, but your mom is thinking about your safety and all the risks that could happen. That is why, to deal with personal relationships, you should always immediately put yourselves in the other person\\u2019s shoes and not let the issue linger for a long time. \\r\"}]}\n",
            "{\"messages\": [{\"role\": \"user\", \"content\": \"Describe the climate and geography of the Sahara Desert.\"}, {\"role\": \"assistant\", \"content\": \"The Sahara Desert has an exceptionally dry environment, with daytime highs of over 100 degrees Celsius and nighttime lows of around 60 degrees. It covers most of North Africa and is typified by long areas of dunes, rocky plateaus, gravel plains, and scattered mountains and lakes.\\r\"}]}\n",
            "{\"messages\": [{\"role\": \"user\", \"content\": \"Describe the importance of lifelong learning.\"}, {\"role\": \"assistant\", \"content\": \"The importance of lifelong learning is that it helps improve the health and function of the brain. The mental benefits of learning can include a longer attention span, better cognitive function, stronger memory, and improved reasoning skills. \\r\"}]}\n"
          ]
        }
      ],
      "source": [
        "!head -n 5 PromptDataset_test.jsonl"
      ]
    },
    {
      "cell_type": "code",
      "execution_count": null,
      "metadata": {
        "colab": {
          "base_uri": "https://localhost:8080/"
        },
        "id": "3OtJvEglJ1TX",
        "outputId": "088d06d8-88f9-4f85-be03-648938593f40"
      },
      "outputs": [
        {
          "output_type": "stream",
          "name": "stdout",
          "text": [
            "Training file ID: file-HOIBVkf48y0K4jMDJqvw2wRg\n",
            "Validation file ID: file-xkcTX24T4PmCz98YgN4KtaJV\n"
          ]
        }
      ],
      "source": [
        "import openai\n",
        "from openai import OpenAI\n",
        "\n",
        "\n",
        "def upload_file(file_name: str, purpose: str) -> str:\n",
        "    with open(file_name, \"rb\") as file_fd:\n",
        "        response = client.files.create(file=file_fd, purpose=purpose)\n",
        "    return response.id\n",
        "\n",
        "training_file_id = upload_file(\"PromptDataset_train.jsonl\", \"fine-tune\")\n",
        "validation_file_id = upload_file(\"PromptDataset_test.jsonl\", \"fine-tune\")\n",
        "\n",
        "# Get the training and validation file used for the fine-tuning\n",
        "print(\"Training file ID:\", training_file_id)\n",
        "print(\"Validation file ID:\", validation_file_id)\n"
      ]
    },
    {
      "cell_type": "code",
      "execution_count": null,
      "metadata": {
        "id": "xRUlYWZpdQRy"
      },
      "outputs": [],
      "source": [
        "import openai\n",
        "from openai import OpenAI\n",
        "import time\n",
        "\n",
        "# change this parameters\n",
        "n_epochs_options  = 5\n",
        "batch_size_options = 2\n",
        "learning_rate_multiplier_options = 1.5\n",
        "\n",
        "best_hyperparameters = None\n",
        "best_job_id = None\n",
        "best_status = None\n",
        "best_validation_score = float('-inf')\n",
        "\n",
        "def get_validation_score(job_id):\n",
        "    while True:\n",
        "        job = client.fine_tuning.jobs.retrieve(job_id)\n",
        "        status = job.status\n",
        "        if status == 'succeeded':\n",
        "            print('Val Loss:')\n",
        "            print(client.fine_tuning.jobs.list_events(fine_tuning_job_id=job_id).data[4].data['full_valid_loss'])\n",
        "            print('Steps:')\n",
        "            print(client.fine_tuning.jobs.list_events(fine_tuning_job_id=job_id).data[4].data['step'])\n",
        "\n",
        "            response = client.fine_tuning.jobs.create(\n",
        "                training_file=training_file_id,\n",
        "                validation_file=validation_file_id,\n",
        "                # change to gpt-3.5-turbo\tfor GPT3.5 Turbo baseline results\n",
        "                model=\"gpt-4o-mini\",\n",
        "                suffix=\"recipe-ner\",\n",
        "                hyperparameters={\n",
        "                    'n_epochs': n_epochs,\n",
        "                    'batch_size': batch_size,\n",
        "                    'learning_rate_multiplier': learning_rate_multiplier\n",
        "                },\n",
        "            )\n",
        "\n",
        "            job_id = response.id\n",
        "            status = response.status\n",
        "\n",
        "            print(f\"Job ID: {job_id}, Status: {status}\")\n",
        "            print(f\"Hyperparameters: n_epochs={n_epochs}, batch_size={batch_size}, learning_rate_multiplier={learning_rate_multiplier}\")\n",
        "\n",
        "            validation_score, step = get_validation_score(job_id)\n",
        "            if validation_score is not None:\n",
        "                validation_scores[job_id] = (validation_score, step)\n",
        "                print(f\"Validation Score for Job ID {job_id}: {validation_score}\")\n",
        "\n",
        "            # Update the best configuration if this one is better -> this is not used becuase we run experiments individually so this will make a loop printing steps and val loss\n",
        "            if validation_score is not None and validation_score > best_validation_score:\n",
        "                best_hyperparameters = {\n",
        "                    'n_epochs': n_epochs,\n",
        "                    'batch_size': batch_size,\n",
        "                    'learning_rate_multiplier': learning_rate_multiplier\n",
        "                }\n",
        "                best_job_id = job_id\n",
        "                best_status = status\n",
        "                best_validation_score = validation_score\n",
        "\n",
        "# Print all validation scores at the end\n",
        "print(\"\\nValidation Scores for all jobs:\")\n",
        "print(f\"Job ID: {job_id}, Validation Score: {score}, Steps: {step}\")"
      ]
    },
    {
      "cell_type": "markdown",
      "source": [
        "## Hyperparameters\n",
        "Finding the optimal hyperparameters for the selected models"
      ],
      "metadata": {
        "id": "u2msbckFHsE6"
      }
    },
    {
      "cell_type": "code",
      "source": [
        "import openai\n",
        "import pandas as pd\n",
        "from sklearn.metrics.pairwise import cosine_similarity\n",
        "from sklearn.feature_extraction.text import TfidfVectorizer\n",
        "\n",
        "# Hyperparameters\n",
        "temperature_values = [0.5, 0.7, 0.9]\n",
        "max_tokens_values = [300, 500, 700]\n",
        "top_p_values = [0.8, 0.9, 1.0]\n",
        "n_values = [1, 3]\n",
        "\n",
        "vectorizer = TfidfVectorizer()\n",
        "results = []\n",
        "\n",
        "def calculate_similarity(generated, expected):\n",
        "    tfidf_matrix = vectorizer.fit_transform([generated, expected])\n",
        "    return cosine_similarity(tfidf_matrix[0:1], tfidf_matrix[1:2])[0][0]\n",
        "\n",
        "for temp in temperature_values:\n",
        "    for max_tok in max_tokens_values:\n",
        "        for top_p in top_p_values:\n",
        "            for n in n_values:\n",
        "                print(f\"Testing with temperature={temp}, max_tokens={max_tok}, top_p={top_p}, n={n}\")\n",
        "\n",
        "                total_similarity = 0\n",
        "                count = 0\n",
        "\n",
        "                for index, row in val_df.iterrows():\n",
        "                    prompt = row['Prompt']\n",
        "                    expected_response = row['Response']\n",
        "\n",
        "                    test_messages = [{\"role\": \"user\", \"content\": prompt}]\n",
        "\n",
        "                    # Generate response\n",
        "                    response = client.chat.completions.create(\n",
        "                        model=fine_tuned_model_id,\n",
        "                        messages=test_messages,\n",
        "                        max_tokens=max_tok,\n",
        "                        temperature=temp,\n",
        "                        top_p=top_p,\n",
        "                        n=n\n",
        "                    )\n",
        "\n",
        "                    generated_response = response.choices[0].message.content.replace(\"\\n\", \" \")\n",
        "\n",
        "                    similarity = calculate_similarity(generated_response, expected_response)\n",
        "                    total_similarity += similarity\n",
        "                    count += 1\n",
        "\n",
        "                # Calculate average similarity score for this hyperparameter combination\n",
        "                avg_similarity = total_similarity / count\n",
        "                results.append((temp, max_tok, top_p, n, avg_similarity))\n",
        "                print(f\"Average similarity score: {avg_similarity:.4f}\")\n",
        "\n",
        "best_hyperparameters = max(results, key=lambda x: x[4])\n",
        "print(f\"Best Hyperparameters: Temperature={best_hyperparameters[0]}, Max Tokens={best_hyperparameters[1]}, Top P={best_hyperparameters[2]}, N={best_hyperparameters[3]}\")\n",
        "print(f\"Highest Average Similarity Score: {best_hyperparameters[4]:.4f}\")\n"
      ],
      "metadata": {
        "id": "hnS2jGX4IDnx"
      },
      "execution_count": null,
      "outputs": []
    },
    {
      "cell_type": "markdown",
      "source": [
        "## Fine-tuned model's performance"
      ],
      "metadata": {
        "id": "JjGiOAf7INLZ"
      }
    },
    {
      "cell_type": "code",
      "execution_count": null,
      "metadata": {
        "colab": {
          "base_uri": "https://localhost:8080/"
        },
        "id": "OI7WkGdT-hRy",
        "outputId": "b92a9b0a-9695-4de5-aca3-1ac53d90dbd6"
      },
      "outputs": [
        {
          "name": "stdout",
          "output_type": "stream",
          "text": [
            "In Homer’s 'The Iliad', heroism is often portrayed as an individualistic pursuit, with heroes like Achilles and Hector engaging in single combat and achieving glory through their personal feats of strength and skill. In contrast, the concept of heroism in J.K. Rowling’s 'Harry Potter' series is more collective, with Harry and his friends working together to overcome challenges and fight against the forces of darkness. While Achilles and Hector are driven by personal honor and glory, Harry and his friends are motivated by a sense of duty and loyalty to each other and to the wizarding world. Additionally, the heroes in 'The Iliad' are often defined by their physical prowess and martial skill, while the heroes in 'Harry Potter' are characterized by their moral courage and willingness to stand up for what is right, even in the face of overwhelming odds.\n",
            "The primary themes explored in Jane Austen's \"Pride and Prejudice\" include love and marriage, social class, and reputation. The novel depicts the challenges faced by characters as they navigate societal expectations and personal desires, highlighting the importance of self-awareness and personal growth. The theme of love and marriage is central to the story, as characters like Elizabeth Bennet and Mr. Darcy must confront their own prejudices and misconceptions in order to find true happiness. Austen also explores the impact of social class on relationships, illustrating the limitations and opportunities that arise from one's social standing. Additionally, the theme of reputation underscores the characters' struggles to balance societal norms with personal integrity, revealing the complexity of human interactions and the power of first impressions.\n",
            "The main principles of quantum mechanics as introduced by Niels Bohr are the quantization of energy, wave-particle duality, and the uncertainty principle. Bohr’s model of the atom, proposed in 1913, incorporated these principles and laid the foundation for quantum theory. This model postulated that electrons orbit the nucleus in discrete energy levels, or shells, and that they can only move between these levels by absorbing or emitting photons. This quantization of energy explained the spectral lines observed in the hydrogen atom, providing a better understanding of atomic structure and the behavior of matter at the subatomic level. Furthermore, Bohr’s model also supported the wave-particle duality of matter, suggesting that particles like electrons exhibit both wave-like and particle-like properties. This idea was later expanded by de Broglie’s hypothesis, which stated that all particles have wave properties and can be described by a wave function. Lastly, Bohr’s work on the uncertainty principle, developed with Heisenberg in 1927, showed that it is impossible to simultaneously measure the position and momentum of a particle with absolute precision. This principle highlights the inherent limitations of classical physics when applied to quantum systems and underscores the probabilistic nature of quantum mechanics. By incorporating these principles, Bohr’s contributions to quantum theory revolutionized our understanding of the atomic world and paved the way for future developments in physics.\n",
            "Ancient Roman architecture was heavily influenced by ancient Greek architecture. Both civilizations used columns, arches, and domes in their buildings. However, Roman architecture was more focused on grandeur and scale, with larger buildings and more elaborate decoration. The Romans also developed concrete as a building material, allowing for larger structures such as the Colosseum and the Pantheon.\n",
            "The rise of artificial intelligence in the 21st century is attributed to the availability of vast amounts of data, advancements in machine learning algorithms, increased computing power, and growing demand for automation across industries. These factors have enabled AI to revolutionize various fields, from healthcare to finance, by enhancing decision-making, streamlining processes, and enabling new capabilities such as natural language processing and computer vision.\n",
            "Traditional Japanese tea ceremonies are deeply rooted in Zen Buddhism and are seen as a spiritual practice that emphasizes harmony, respect, purity, and tranquility. The key features of a tea ceremony include the preparation and serving of matcha (powdered green tea) by a skilled tea master in a tranquil setting, often a tea room with tatami mats and a simple, elegant decor. The ceremony typically follows a precise series of movements and gestures, with the host using traditional utensils such as a bamboo scoop and whisk to prepare the tea with precision and grace. Participants, usually seated on tatami mats, are expected to observe strict etiquette and show respect for the host and each other. The sharing of a bowl of tea is seen as a symbol of unity and mutual understanding, fostering a sense of connection and mindfulness. The tea ceremony is considered a form of art that requires years of training and practice to master, with each detail carefully chosen to create a harmonious and meditative experience.\n",
            "The primary economic impacts of urbanization on rural communities include increased access to markets, improved infrastructure, and higher land values. However, urbanization can also lead to rural depopulation and increased income inequality.\n",
            "The concept of 'social contract' in political philosophy differs between Hobbes and Rousseau in terms of their views on the nature of the state of nature, the role of individual rights and freedoms, and the legitimacy of political authority. Hobbes argues that the state of nature is a condition of perpetual conflict and insecurity, where life is \"nasty, brutish, and short\". In contrast, Rousseau views the state of nature as a condition of harmony and equality, where individuals are free and self-sufficient.\n",
            "The key milestones in the development of renewable energy technologies include the creation of the first solar cell in 1954, the first wind turbine in 1888, the first commercial geothermal plant in 1960, and the first hydroelectric plant in the late 19th century.  The development of these technologies and subsequent advancements have led to increased efficiency and affordability, making renewable energy sources a viable alternative to fossil fuels. The 1973 oil crisis further highlighted the importance of renewable energy, and since then, significant progress has been made in the development of solar, wind, geothermal, and hydroelectric power.\n"
          ]
        }
      ],
      "source": [
        "# subset of questions to test the finetuned model's performance on\n",
        "questions = [\n",
        "    \"How does the concept of 'heroism' differ in Homer’s 'The Iliad' and in J.K. Rowling's 'Harry Potter' series?\",\n",
        "    \"What are the primary themes explored in Jane Austen's 'Pride and Prejudice'?\",\n",
        "    \"What are the main principles of quantum mechanics as introduced by Niels Bohr?\",\n",
        "    \"How does the architecture of ancient Rome compare to that of ancient Greece?\",\n",
        "    \"What are the major factors contributing to the rise of artificial intelligence in the 21st century?\",\n",
        "    \"Describe the key features and cultural significance of traditional Japanese tea ceremonies.\",\n",
        "    \"What are the primary economic impacts of urbanization on rural communities?\",\n",
        "    \"How does the concept of 'social contract' in political philosophy differ between Hobbes and Rousseau?\",\n",
        "    \"What are the key milestones in the development of renewable energy technologies?\"\n",
        "]\n",
        "\n",
        "for question in questions:\n",
        "    test_messages = [{\"role\": \"user\", \"content\": question}]\n",
        "\n",
        "    response = client.chat.completions.create(\n",
        "        model=fine_tuned_model_id, messages=test_messages, max_tokens = 500,\n",
        "            temperature = 0.7, top_p =0.9, n=3,\n",
        "    )\n",
        "\n",
        "    answer = response.choices[0].message.content.replace(\"\\n\", \" \")\n",
        "    print(f\"{answer}\")\n"
      ]
    }
  ],
  "metadata": {
    "colab": {
      "provenance": []
    },
    "kernelspec": {
      "display_name": "Python 3",
      "name": "python3"
    },
    "language_info": {
      "name": "python"
    }
  },
  "nbformat": 4,
  "nbformat_minor": 0
}
