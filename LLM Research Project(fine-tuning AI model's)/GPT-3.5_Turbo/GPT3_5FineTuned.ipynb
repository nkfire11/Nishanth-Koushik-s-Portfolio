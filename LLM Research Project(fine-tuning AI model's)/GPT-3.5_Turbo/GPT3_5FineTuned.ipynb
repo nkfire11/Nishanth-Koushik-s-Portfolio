{
  "nbformat": 4,
  "nbformat_minor": 0,
  "metadata": {
    "colab": {
      "provenance": []
    },
    "kernelspec": {
      "name": "python3",
      "display_name": "Python 3"
    },
    "language_info": {
      "name": "python"
    }
  },
  "cells": [
    {
      "cell_type": "code",
      "execution_count": 1,
      "metadata": {
        "colab": {
          "base_uri": "https://localhost:8080/",
          "height": 224
        },
        "id": "_eD4rrQtIOIU",
        "outputId": "16519d31-a365-4ff1-be78-5089bbe66a8c"
      },
      "outputs": [
        {
          "output_type": "stream",
          "name": "stdout",
          "text": [
            "Mounted at /content/drive\n"
          ]
        },
        {
          "output_type": "execute_result",
          "data": {
            "text/plain": [
              "                                              Prompt  \\\n",
              "0                     What is the capital of France?   \n",
              "1                          Explain the water cycle.    \n",
              "2  Name the three branches of the U.S. government...   \n",
              "3                 Describe how photosynthesis works.   \n",
              "4  What are the main differences between classica...   \n",
              "\n",
              "                                            Response  \n",
              "0                    The capital of France is Paris.  \n",
              "1  The water cycle is the continuous movement of ...  \n",
              "2  The three branches of the U.S. government are ...  \n",
              "3  Photosynthesis is the process in which green p...  \n",
              "4  The main differences between classical and qua...  "
            ],
            "text/html": [
              "\n",
              "  <div id=\"df-27cc15ab-9534-406d-ab7d-ac2b49246af4\" class=\"colab-df-container\">\n",
              "    <div>\n",
              "<style scoped>\n",
              "    .dataframe tbody tr th:only-of-type {\n",
              "        vertical-align: middle;\n",
              "    }\n",
              "\n",
              "    .dataframe tbody tr th {\n",
              "        vertical-align: top;\n",
              "    }\n",
              "\n",
              "    .dataframe thead th {\n",
              "        text-align: right;\n",
              "    }\n",
              "</style>\n",
              "<table border=\"1\" class=\"dataframe\">\n",
              "  <thead>\n",
              "    <tr style=\"text-align: right;\">\n",
              "      <th></th>\n",
              "      <th>Prompt</th>\n",
              "      <th>Response</th>\n",
              "    </tr>\n",
              "  </thead>\n",
              "  <tbody>\n",
              "    <tr>\n",
              "      <th>0</th>\n",
              "      <td>What is the capital of France?</td>\n",
              "      <td>The capital of France is Paris.</td>\n",
              "    </tr>\n",
              "    <tr>\n",
              "      <th>1</th>\n",
              "      <td>Explain the water cycle.</td>\n",
              "      <td>The water cycle is the continuous movement of ...</td>\n",
              "    </tr>\n",
              "    <tr>\n",
              "      <th>2</th>\n",
              "      <td>Name the three branches of the U.S. government...</td>\n",
              "      <td>The three branches of the U.S. government are ...</td>\n",
              "    </tr>\n",
              "    <tr>\n",
              "      <th>3</th>\n",
              "      <td>Describe how photosynthesis works.</td>\n",
              "      <td>Photosynthesis is the process in which green p...</td>\n",
              "    </tr>\n",
              "    <tr>\n",
              "      <th>4</th>\n",
              "      <td>What are the main differences between classica...</td>\n",
              "      <td>The main differences between classical and qua...</td>\n",
              "    </tr>\n",
              "  </tbody>\n",
              "</table>\n",
              "</div>\n",
              "    <div class=\"colab-df-buttons\">\n",
              "\n",
              "  <div class=\"colab-df-container\">\n",
              "    <button class=\"colab-df-convert\" onclick=\"convertToInteractive('df-27cc15ab-9534-406d-ab7d-ac2b49246af4')\"\n",
              "            title=\"Convert this dataframe to an interactive table.\"\n",
              "            style=\"display:none;\">\n",
              "\n",
              "  <svg xmlns=\"http://www.w3.org/2000/svg\" height=\"24px\" viewBox=\"0 -960 960 960\">\n",
              "    <path d=\"M120-120v-720h720v720H120Zm60-500h600v-160H180v160Zm220 220h160v-160H400v160Zm0 220h160v-160H400v160ZM180-400h160v-160H180v160Zm440 0h160v-160H620v160ZM180-180h160v-160H180v160Zm440 0h160v-160H620v160Z\"/>\n",
              "  </svg>\n",
              "    </button>\n",
              "\n",
              "  <style>\n",
              "    .colab-df-container {\n",
              "      display:flex;\n",
              "      gap: 12px;\n",
              "    }\n",
              "\n",
              "    .colab-df-convert {\n",
              "      background-color: #E8F0FE;\n",
              "      border: none;\n",
              "      border-radius: 50%;\n",
              "      cursor: pointer;\n",
              "      display: none;\n",
              "      fill: #1967D2;\n",
              "      height: 32px;\n",
              "      padding: 0 0 0 0;\n",
              "      width: 32px;\n",
              "    }\n",
              "\n",
              "    .colab-df-convert:hover {\n",
              "      background-color: #E2EBFA;\n",
              "      box-shadow: 0px 1px 2px rgba(60, 64, 67, 0.3), 0px 1px 3px 1px rgba(60, 64, 67, 0.15);\n",
              "      fill: #174EA6;\n",
              "    }\n",
              "\n",
              "    .colab-df-buttons div {\n",
              "      margin-bottom: 4px;\n",
              "    }\n",
              "\n",
              "    [theme=dark] .colab-df-convert {\n",
              "      background-color: #3B4455;\n",
              "      fill: #D2E3FC;\n",
              "    }\n",
              "\n",
              "    [theme=dark] .colab-df-convert:hover {\n",
              "      background-color: #434B5C;\n",
              "      box-shadow: 0px 1px 3px 1px rgba(0, 0, 0, 0.15);\n",
              "      filter: drop-shadow(0px 1px 2px rgba(0, 0, 0, 0.3));\n",
              "      fill: #FFFFFF;\n",
              "    }\n",
              "  </style>\n",
              "\n",
              "    <script>\n",
              "      const buttonEl =\n",
              "        document.querySelector('#df-27cc15ab-9534-406d-ab7d-ac2b49246af4 button.colab-df-convert');\n",
              "      buttonEl.style.display =\n",
              "        google.colab.kernel.accessAllowed ? 'block' : 'none';\n",
              "\n",
              "      async function convertToInteractive(key) {\n",
              "        const element = document.querySelector('#df-27cc15ab-9534-406d-ab7d-ac2b49246af4');\n",
              "        const dataTable =\n",
              "          await google.colab.kernel.invokeFunction('convertToInteractive',\n",
              "                                                    [key], {});\n",
              "        if (!dataTable) return;\n",
              "\n",
              "        const docLinkHtml = 'Like what you see? Visit the ' +\n",
              "          '<a target=\"_blank\" href=https://colab.research.google.com/notebooks/data_table.ipynb>data table notebook</a>'\n",
              "          + ' to learn more about interactive tables.';\n",
              "        element.innerHTML = '';\n",
              "        dataTable['output_type'] = 'display_data';\n",
              "        await google.colab.output.renderOutput(dataTable, element);\n",
              "        const docLink = document.createElement('div');\n",
              "        docLink.innerHTML = docLinkHtml;\n",
              "        element.appendChild(docLink);\n",
              "      }\n",
              "    </script>\n",
              "  </div>\n",
              "\n",
              "\n",
              "<div id=\"df-49e22313-5bae-4503-9c02-a57f8125852a\">\n",
              "  <button class=\"colab-df-quickchart\" onclick=\"quickchart('df-49e22313-5bae-4503-9c02-a57f8125852a')\"\n",
              "            title=\"Suggest charts\"\n",
              "            style=\"display:none;\">\n",
              "\n",
              "<svg xmlns=\"http://www.w3.org/2000/svg\" height=\"24px\"viewBox=\"0 0 24 24\"\n",
              "     width=\"24px\">\n",
              "    <g>\n",
              "        <path d=\"M19 3H5c-1.1 0-2 .9-2 2v14c0 1.1.9 2 2 2h14c1.1 0 2-.9 2-2V5c0-1.1-.9-2-2-2zM9 17H7v-7h2v7zm4 0h-2V7h2v10zm4 0h-2v-4h2v4z\"/>\n",
              "    </g>\n",
              "</svg>\n",
              "  </button>\n",
              "\n",
              "<style>\n",
              "  .colab-df-quickchart {\n",
              "      --bg-color: #E8F0FE;\n",
              "      --fill-color: #1967D2;\n",
              "      --hover-bg-color: #E2EBFA;\n",
              "      --hover-fill-color: #174EA6;\n",
              "      --disabled-fill-color: #AAA;\n",
              "      --disabled-bg-color: #DDD;\n",
              "  }\n",
              "\n",
              "  [theme=dark] .colab-df-quickchart {\n",
              "      --bg-color: #3B4455;\n",
              "      --fill-color: #D2E3FC;\n",
              "      --hover-bg-color: #434B5C;\n",
              "      --hover-fill-color: #FFFFFF;\n",
              "      --disabled-bg-color: #3B4455;\n",
              "      --disabled-fill-color: #666;\n",
              "  }\n",
              "\n",
              "  .colab-df-quickchart {\n",
              "    background-color: var(--bg-color);\n",
              "    border: none;\n",
              "    border-radius: 50%;\n",
              "    cursor: pointer;\n",
              "    display: none;\n",
              "    fill: var(--fill-color);\n",
              "    height: 32px;\n",
              "    padding: 0;\n",
              "    width: 32px;\n",
              "  }\n",
              "\n",
              "  .colab-df-quickchart:hover {\n",
              "    background-color: var(--hover-bg-color);\n",
              "    box-shadow: 0 1px 2px rgba(60, 64, 67, 0.3), 0 1px 3px 1px rgba(60, 64, 67, 0.15);\n",
              "    fill: var(--button-hover-fill-color);\n",
              "  }\n",
              "\n",
              "  .colab-df-quickchart-complete:disabled,\n",
              "  .colab-df-quickchart-complete:disabled:hover {\n",
              "    background-color: var(--disabled-bg-color);\n",
              "    fill: var(--disabled-fill-color);\n",
              "    box-shadow: none;\n",
              "  }\n",
              "\n",
              "  .colab-df-spinner {\n",
              "    border: 2px solid var(--fill-color);\n",
              "    border-color: transparent;\n",
              "    border-bottom-color: var(--fill-color);\n",
              "    animation:\n",
              "      spin 1s steps(1) infinite;\n",
              "  }\n",
              "\n",
              "  @keyframes spin {\n",
              "    0% {\n",
              "      border-color: transparent;\n",
              "      border-bottom-color: var(--fill-color);\n",
              "      border-left-color: var(--fill-color);\n",
              "    }\n",
              "    20% {\n",
              "      border-color: transparent;\n",
              "      border-left-color: var(--fill-color);\n",
              "      border-top-color: var(--fill-color);\n",
              "    }\n",
              "    30% {\n",
              "      border-color: transparent;\n",
              "      border-left-color: var(--fill-color);\n",
              "      border-top-color: var(--fill-color);\n",
              "      border-right-color: var(--fill-color);\n",
              "    }\n",
              "    40% {\n",
              "      border-color: transparent;\n",
              "      border-right-color: var(--fill-color);\n",
              "      border-top-color: var(--fill-color);\n",
              "    }\n",
              "    60% {\n",
              "      border-color: transparent;\n",
              "      border-right-color: var(--fill-color);\n",
              "    }\n",
              "    80% {\n",
              "      border-color: transparent;\n",
              "      border-right-color: var(--fill-color);\n",
              "      border-bottom-color: var(--fill-color);\n",
              "    }\n",
              "    90% {\n",
              "      border-color: transparent;\n",
              "      border-bottom-color: var(--fill-color);\n",
              "    }\n",
              "  }\n",
              "</style>\n",
              "\n",
              "  <script>\n",
              "    async function quickchart(key) {\n",
              "      const quickchartButtonEl =\n",
              "        document.querySelector('#' + key + ' button');\n",
              "      quickchartButtonEl.disabled = true;  // To prevent multiple clicks.\n",
              "      quickchartButtonEl.classList.add('colab-df-spinner');\n",
              "      try {\n",
              "        const charts = await google.colab.kernel.invokeFunction(\n",
              "            'suggestCharts', [key], {});\n",
              "      } catch (error) {\n",
              "        console.error('Error during call to suggestCharts:', error);\n",
              "      }\n",
              "      quickchartButtonEl.classList.remove('colab-df-spinner');\n",
              "      quickchartButtonEl.classList.add('colab-df-quickchart-complete');\n",
              "    }\n",
              "    (() => {\n",
              "      let quickchartButtonEl =\n",
              "        document.querySelector('#df-49e22313-5bae-4503-9c02-a57f8125852a button');\n",
              "      quickchartButtonEl.style.display =\n",
              "        google.colab.kernel.accessAllowed ? 'block' : 'none';\n",
              "    })();\n",
              "  </script>\n",
              "</div>\n",
              "\n",
              "    </div>\n",
              "  </div>\n"
            ],
            "application/vnd.google.colaboratory.intrinsic+json": {
              "type": "dataframe",
              "variable_name": "dataset",
              "summary": "{\n  \"name\": \"dataset\",\n  \"rows\": 50,\n  \"fields\": [\n    {\n      \"column\": \"Prompt\",\n      \"properties\": {\n        \"dtype\": \"string\",\n        \"num_unique_values\": 50,\n        \"samples\": [\n          \"Describe the climate and geography of the Sahara Desert.\",\n          \"What are the ethical considerations in animal testing for medical research?\",\n          \"Discuss the concpt of free will versus determinism.\"\n        ],\n        \"semantic_type\": \"\",\n        \"description\": \"\"\n      }\n    },\n    {\n      \"column\": \"Response\",\n      \"properties\": {\n        \"dtype\": \"string\",\n        \"num_unique_values\": 50,\n        \"samples\": [\n          \"The Sahara Desert has an exceptionally dry environment, with daytime highs of over 100 degrees Celsius and nighttime lows of around 60 degrees. It covers most of North Africa and is typified by long areas of dunes, rocky plateaus, gravel plains, and scattered mountains and lakes.\\r\",\n          \"Animal testing in medical research raises ethical concerns regarding animal welfare, consent, and necessity. The 3Rs principle\\u2014Replacement, Reduction, and Refinement\\u2014guides ethical research by advocating for alternatives to animal use, minimizing the number of animals used, and refining procedures to reduce suffering. Ethical considerations also involve balancing scientific advancement with humane treatment, ensuring that animal testing is justified and that benefits outweigh ethical costs.\\r\",\n          \"The debate between free will and determinism centers on whether humans have the ability to make choices independent of external forces or if every action is predetermined by factors such as biology and environment. Proponents of free will argue that individuals can make conscious decisions, reflecting personal autonomy. Determinists, however, claim that all events, including human actions, are the result of preceding causes. Compatibilists attempt to reconcile the two by suggesting that free will is compatible with determinism, arguing that people can still be responsible for their actions even if they are determined by prior states.\\r\"\n        ],\n        \"semantic_type\": \"\",\n        \"description\": \"\"\n      }\n    }\n  ]\n}"
            }
          },
          "metadata": {},
          "execution_count": 1
        }
      ],
      "source": [
        "import pandas as pd\n",
        "\n",
        "from google.colab import drive\n",
        "drive.mount('/content/drive')\n",
        "\n",
        "dataset = pd.read_csv(\"/content/drive/MyDrive/PromptDataset.csv\") #paste the path in these quotes\n",
        "dataset.head()"
      ]
    },
    {
      "cell_type": "code",
      "source": [
        "import sklearn\n",
        "from sklearn.model_selection import train_test_split"
      ],
      "metadata": {
        "id": "9LMeaoooIlCN"
      },
      "execution_count": 2,
      "outputs": []
    },
    {
      "cell_type": "code",
      "source": [
        "!pip install openai\n",
        "from openai import OpenAI\n",
        "client = OpenAI(\n",
        "    api_key='',\n",
        ")\n",
        "\n",
        "def visualize_chat(messages):\n",
        "    chat = []\n",
        "    for message in messages:\n",
        "        chat.append(f\"**👤 User:** {message}\")\n",
        "        response = client.chat.completions.create(\n",
        "            model=\"gpt-3.5-turbo\",\n",
        "            messages=[{\"role\": \"user\", \"content\": message}],\n",
        "            stream=False,\n",
        "            max_tokens = 1000,\n",
        "            temperature = 1.0,\n",
        "        )\n",
        "        chat.append(f\"**🤖 LLM:** {response.choices[0].message.content}\")\n",
        "    return chat\n",
        "\n",
        "messages = [\n",
        "    \"It is recently found out that Apple is not an environmental friendly company. You are a fanatic Apple fan working on a blog. Write about how Apple does a good job of saving the planet.\"\n",
        "]\n",
        "\n",
        "data = visualize_chat(messages)\n",
        "for chat in data:\n",
        "  print(chat)"
      ],
      "metadata": {
        "colab": {
          "base_uri": "https://localhost:8080/"
        },
        "id": "fvyplIvmIy1Q",
        "outputId": "42b91987-db66-4310-d028-add0f6410a35"
      },
      "execution_count": 3,
      "outputs": [
        {
          "output_type": "stream",
          "name": "stdout",
          "text": [
            "Collecting openai\n",
            "  Downloading openai-1.38.0-py3-none-any.whl.metadata (22 kB)\n",
            "Requirement already satisfied: anyio<5,>=3.5.0 in /usr/local/lib/python3.10/dist-packages (from openai) (3.7.1)\n",
            "Requirement already satisfied: distro<2,>=1.7.0 in /usr/lib/python3/dist-packages (from openai) (1.7.0)\n",
            "Collecting httpx<1,>=0.23.0 (from openai)\n",
            "  Downloading httpx-0.27.0-py3-none-any.whl.metadata (7.2 kB)\n",
            "Requirement already satisfied: pydantic<3,>=1.9.0 in /usr/local/lib/python3.10/dist-packages (from openai) (2.8.2)\n",
            "Requirement already satisfied: sniffio in /usr/local/lib/python3.10/dist-packages (from openai) (1.3.1)\n",
            "Requirement already satisfied: tqdm>4 in /usr/local/lib/python3.10/dist-packages (from openai) (4.66.4)\n",
            "Requirement already satisfied: typing-extensions<5,>=4.7 in /usr/local/lib/python3.10/dist-packages (from openai) (4.12.2)\n",
            "Requirement already satisfied: idna>=2.8 in /usr/local/lib/python3.10/dist-packages (from anyio<5,>=3.5.0->openai) (3.7)\n",
            "Requirement already satisfied: exceptiongroup in /usr/local/lib/python3.10/dist-packages (from anyio<5,>=3.5.0->openai) (1.2.2)\n",
            "Requirement already satisfied: certifi in /usr/local/lib/python3.10/dist-packages (from httpx<1,>=0.23.0->openai) (2024.7.4)\n",
            "Collecting httpcore==1.* (from httpx<1,>=0.23.0->openai)\n",
            "  Downloading httpcore-1.0.5-py3-none-any.whl.metadata (20 kB)\n",
            "Collecting h11<0.15,>=0.13 (from httpcore==1.*->httpx<1,>=0.23.0->openai)\n",
            "  Downloading h11-0.14.0-py3-none-any.whl.metadata (8.2 kB)\n",
            "Requirement already satisfied: annotated-types>=0.4.0 in /usr/local/lib/python3.10/dist-packages (from pydantic<3,>=1.9.0->openai) (0.7.0)\n",
            "Requirement already satisfied: pydantic-core==2.20.1 in /usr/local/lib/python3.10/dist-packages (from pydantic<3,>=1.9.0->openai) (2.20.1)\n",
            "Downloading openai-1.38.0-py3-none-any.whl (335 kB)\n",
            "\u001b[2K   \u001b[90m━━━━━━━━━━━━━━━━━━━━━━━━━━━━━━━━━━━━━━━━\u001b[0m \u001b[32m335.9/335.9 kB\u001b[0m \u001b[31m11.2 MB/s\u001b[0m eta \u001b[36m0:00:00\u001b[0m\n",
            "\u001b[?25hDownloading httpx-0.27.0-py3-none-any.whl (75 kB)\n",
            "\u001b[2K   \u001b[90m━━━━━━━━━━━━━━━━━━━━━━━━━━━━━━━━━━━━━━━━\u001b[0m \u001b[32m75.6/75.6 kB\u001b[0m \u001b[31m4.8 MB/s\u001b[0m eta \u001b[36m0:00:00\u001b[0m\n",
            "\u001b[?25hDownloading httpcore-1.0.5-py3-none-any.whl (77 kB)\n",
            "\u001b[2K   \u001b[90m━━━━━━━━━━━━━━━━━━━━━━━━━━━━━━━━━━━━━━━━\u001b[0m \u001b[32m77.9/77.9 kB\u001b[0m \u001b[31m4.8 MB/s\u001b[0m eta \u001b[36m0:00:00\u001b[0m\n",
            "\u001b[?25hDownloading h11-0.14.0-py3-none-any.whl (58 kB)\n",
            "\u001b[2K   \u001b[90m━━━━━━━━━━━━━━━━━━━━━━━━━━━━━━━━━━━━━━━━\u001b[0m \u001b[32m58.3/58.3 kB\u001b[0m \u001b[31m3.6 MB/s\u001b[0m eta \u001b[36m0:00:00\u001b[0m\n",
            "\u001b[?25hInstalling collected packages: h11, httpcore, httpx, openai\n",
            "Successfully installed h11-0.14.0 httpcore-1.0.5 httpx-0.27.0 openai-1.38.0\n",
            "**👤 User:** It is recently found out that Apple is not an environmental friendly company. You are a fanatic Apple fan working on a blog. Write about how Apple does a good job of saving the planet.\n",
            "**🤖 LLM:** While it may be true that Apple has faced criticism in the past regarding its environmental practices, it is important to recognize the positive steps the company has taken to reduce its carbon footprint and work towards a more sustainable future.\n",
            "\n",
            "One of Apple's most notable achievements is its commitment to using renewable energy sources to power its operations. The company has made significant investments in solar and wind energy projects, allowing them to power their data centers, offices, and retail stores with clean, renewable energy. In fact, Apple has stated that they are 100% powered by renewable energy in the US and 23 other countries.\n",
            "\n",
            "Additionally, Apple has made strides in reducing the environmental impact of its products. The company has implemented a comprehensive recycling program, where customers can return their old devices for recycling or trade them in for credit towards a new purchase. Apple also strives to use recycled materials in their products whenever possible, and has introduced initiatives to reduce the amount of packaging used for its products.\n",
            "\n",
            "Furthermore, Apple has taken steps to address the issue of e-waste by designing their products to be more durable and longer-lasting. They also offer repair programs and encourage customers to extend the life of their devices rather than replacing them with new models.\n",
            "\n",
            "While Apple may not be perfect when it comes to their environmental practices, it is clear that the company is taking steps in the right direction. By investing in renewable energy, reducing waste, and designing products with the environment in mind, Apple is demonstrating its commitment to saving the planet and setting an example for other tech companies to follow.\n"
          ]
        }
      ]
    },
    {
      "cell_type": "code",
      "source": [
        "# Define the split ratio, e.g., 80% training and 20% testing\n",
        "train_size = 0.8\n",
        "\n",
        "# Perform the train/test split\n",
        "train_df, test_df = train_test_split(dataset, train_size=train_size, random_state=42)\n",
        "\n",
        "# Save the split datasets to new CSV files\n",
        "train_df.to_csv('PromptDataset_train.csv', index=False)\n",
        "test_df.to_csv('PromptDataset_test.csv', index=False)\n",
        "\n",
        "print(\"Train/test split completed. Files saved as 'PromptDataset_train.csv' and 'PromptDataset_test.csv'.\")"
      ],
      "metadata": {
        "colab": {
          "base_uri": "https://localhost:8080/"
        },
        "id": "fxGT_SAiJf3a",
        "outputId": "aa707713-c50b-415e-df69-7f337b940675"
      },
      "execution_count": 4,
      "outputs": [
        {
          "output_type": "stream",
          "name": "stdout",
          "text": [
            "Train/test split completed. Files saved as 'PromptDataset_train.csv' and 'PromptDataset_test.csv'.\n"
          ]
        }
      ]
    },
    {
      "cell_type": "code",
      "source": [
        "import json\n",
        "\n",
        "def csv_to_jsonl(csv_file_path, jsonl_file_path):\n",
        "    # Load the CSV file into a DataFrame\n",
        "    dataset = pd.read_csv(csv_file_path)\n",
        "\n",
        "    # Open the JSONL file for writing\n",
        "    with open(jsonl_file_path, 'w') as jsonl_file:\n",
        "        for _, row in dataset.iterrows():\n",
        "            # Construct the JSON object for each row\n",
        "            json_obj = {\n",
        "                \"messages\": [\n",
        "                    {\"role\": \"user\", \"content\": row['Prompt']},\n",
        "                    {\"role\": \"assistant\", \"content\": row['Response']}\n",
        "                ]\n",
        "            }\n",
        "            # Write the JSON object to the JSONL file\n",
        "            jsonl_file.write(json.dumps(json_obj) + '\\n')\n",
        "\n",
        "    print(f\"CSV file '{csv_file_path}' converted to JSONL format and saved as '{jsonl_file_path}'.\")\n",
        ""
      ],
      "metadata": {
        "id": "I820WQSXJoEX"
      },
      "execution_count": 5,
      "outputs": []
    },
    {
      "cell_type": "code",
      "source": [
        "# Paths for the CSV and JSONL files\n",
        "csv_files = [\n",
        "    (\"PromptDataset_train.csv\", \"PromptDataset_train.jsonl\"),\n",
        "    (\"PromptDataset_test.csv\", \"PromptDataset_test.jsonl\")\n",
        "]\n",
        "\n",
        "# Convert each CSV file to JSONL format\n",
        "for csv_file_path, jsonl_file_path in csv_files:\n",
        "    csv_to_jsonl(csv_file_path, jsonl_file_path)\n",
        ""
      ],
      "metadata": {
        "colab": {
          "base_uri": "https://localhost:8080/"
        },
        "id": "1quxA7-oJqnJ",
        "outputId": "31fe5cd0-d88a-4842-b649-28c8234208aa"
      },
      "execution_count": 6,
      "outputs": [
        {
          "output_type": "stream",
          "name": "stdout",
          "text": [
            "CSV file 'PromptDataset_train.csv' converted to JSONL format and saved as 'PromptDataset_train.jsonl'.\n",
            "CSV file 'PromptDataset_test.csv' converted to JSONL format and saved as 'PromptDataset_test.jsonl'.\n"
          ]
        }
      ]
    },
    {
      "cell_type": "code",
      "source": [
        "!head -n 5 PromptDataset_train.jsonl"
      ],
      "metadata": {
        "colab": {
          "base_uri": "https://localhost:8080/"
        },
        "id": "h278Kgh8Ju05",
        "outputId": "f716ad7b-cc40-4e43-b9cf-04d1e275c3f5"
      },
      "execution_count": 7,
      "outputs": [
        {
          "output_type": "stream",
          "name": "stdout",
          "text": [
            "{\"messages\": [{\"role\": \"user\", \"content\": \"What are the seven continents of the world?\"}, {\"role\": \"assistant\", \"content\": \"The seven continents of the world are Asia, Africa, North America, South America, Europe, and Australia.\\r\"}]}\n",
            "{\"messages\": [{\"role\": \"user\", \"content\": \"What are the main differences between classical and quantum computing?\"}, {\"role\": \"assistant\", \"content\": \"The main differences between classical and quantum computing are the methods and speed of each type of computing. Classical computing uses bits to represent data for binary processing and quantum computing uses quantum properties of atomic and subatomic particles. Classical computing uses bits as the basic unit of information, which can be either 0 or 1, and linearly performs operations with stable and well-established error correction methods.  Quantum computing uses qubits, which can exist in a superposition of states, allowing for simultaneous calculations and solving specific problems more efficiently using quantum algorithms. However, quantum computing is more vulnerable to errors and requires more complex correction.\\r\"}]}\n",
            "{\"messages\": [{\"role\": \"user\", \"content\": \"How does the education system in the United States compare to India?\"}, {\"role\": \"assistant\", \"content\": \"The Indian education system is structured as 10+2, focusing heavily on academic performance and competitive exams, particularly in STEM fields. Recent reforms aim to incorporate holistic approaches, including vocational and digital skills. In contrast, Finland emphasizes student well-being, creativity, and minimal standardized testing. The U.S. offers flexibility in subject choice and values liberal arts and extracurricular activities, with options like AP courses and community colleges for broader education.\\r\"}]}\n",
            "{\"messages\": [{\"role\": \"user\", \"content\": \"What was the significance of the Magna Carta?\"}, {\"role\": \"assistant\", \"content\": \"Magna Carta was created in June 1215, the first written statement of the idea that the king and his government were subject to the law. It created guidelines that limited the monarch's authority and prepared the way for modern democracy. It also had an impact on several other constitutional texts, such as the Universal Declaration of Human Rights and the US Constitution.\\r\"}]}\n",
            "{\"messages\": [{\"role\": \"user\", \"content\": \"Describe how photosynthesis works.\"}, {\"role\": \"assistant\", \"content\": \"Photosynthesis is the process in which green plants, algae and some bacteria convert light energy into chemical energy to be used by the plant. This process can be divided into two main stages:\\nLight-dependent Reactions: Chlorophyll, a green pigment in the chloroplasts of plant cells, first absorbs light energy. The absorbed light energy then splits water molecules into protons (H+) and electrons (e-) with oxygen (02) as a byproduct. The electrons will travel through a series of proteins known as the electron transport chain, and their energy moves the protons. This creates a proton gradient which drives the synthesis of ATP (adenosine triphosphate) and NADPH (nicotinamide adenine dinucleotide phosphate). \\nLight-independent Reactions: The ATP energy and NADPH produced earlier is used to convert carbon dioxide into glucose, which can be used by the plant. \\nThe overall chemical equation for photosynthesis is 6CO2 + 6H2O + light energy -> C6H12O6 + 6O2.\\n\"}]}\n"
          ]
        }
      ]
    },
    {
      "cell_type": "code",
      "source": [
        "!head -n 5 PromptDataset_test.jsonl"
      ],
      "metadata": {
        "colab": {
          "base_uri": "https://localhost:8080/"
        },
        "id": "nTkyTS9pJxQb",
        "outputId": "5842710f-506b-4b66-ad8e-3f0ec9116e99"
      },
      "execution_count": 8,
      "outputs": [
        {
          "output_type": "stream",
          "name": "stdout",
          "text": [
            "{\"messages\": [{\"role\": \"user\", \"content\": \"Describe the climate and geography of the Sahara Desert.\"}, {\"role\": \"assistant\", \"content\": \"The Sahara Desert has an exceptionally dry environment, with daytime highs of over 100 degrees Celsius and nighttime lows of around 60 degrees. It covers most of North Africa and is typified by long areas of dunes, rocky plateaus, gravel plains, and scattered mountains and lakes.\\r\"}]}\n",
            "{\"messages\": [{\"role\": \"user\", \"content\": \"What are the ethical considerations in animal testing for medical research?\"}, {\"role\": \"assistant\", \"content\": \"Animal testing in medical research raises ethical concerns regarding animal welfare, consent, and necessity. The 3Rs principle\\u2014Replacement, Reduction, and Refinement\\u2014guides ethical research by advocating for alternatives to animal use, minimizing the number of animals used, and refining procedures to reduce suffering. Ethical considerations also involve balancing scientific advancement with humane treatment, ensuring that animal testing is justified and that benefits outweigh ethical costs.\\r\"}]}\n",
            "{\"messages\": [{\"role\": \"user\", \"content\": \"Discuss the concpt of free will versus determinism.\"}, {\"role\": \"assistant\", \"content\": \"The debate between free will and determinism centers on whether humans have the ability to make choices independent of external forces or if every action is predetermined by factors such as biology and environment. Proponents of free will argue that individuals can make conscious decisions, reflecting personal autonomy. Determinists, however, claim that all events, including human actions, are the result of preceding causes. Compatibilists attempt to reconcile the two by suggesting that free will is compatible with determinism, arguing that people can still be responsible for their actions even if they are determined by prior states.\\r\"}]}\n",
            "{\"messages\": [{\"role\": \"user\", \"content\": \"How can you prioritize tasks when you have multiple deadlines to meet?\"}, {\"role\": \"assistant\", \"content\": \"I prioritize tasks when I have multiple deadlines by noting them on my calendar. The ones that have closer deadlines are the ones I will try and finish first. For example, if I had a research project due in two weeks, but had a college application due in three weeks, I would first finish the research project. \\r\"}]}\n",
            "{\"messages\": [{\"role\": \"user\", \"content\": \"Describe the cultural impact of the Beatles on music.\"}, {\"role\": \"assistant\", \"content\": \"The Beatles had a profound cultural impact on music, revolutionizing the industry and influencing countless artists and genres. Their innovative approach to songwriting, recording techniques, and incorporation of diverse musical styles set new standards for popular music. The Beatles' lyrics often reflected the social and political climate of the 1960s, resonating with a global audience and contributing to the counterculture movement. Their popularity also helped bridge cultural gaps, bringing rock and roll to mainstream acceptance. The Beatles' legacy endures, as their music continues to inspire new generations and shape the evolution of modern music.\\r\"}]}\n"
          ]
        }
      ]
    },
    {
      "cell_type": "code",
      "source": [
        "def upload_file(file_name: str, purpose: str) -> str:\n",
        "    with open(file_name, \"rb\") as file_fd:\n",
        "        response = client.files.create(file=file_fd, purpose=purpose)\n",
        "    return response.id\n",
        "\n",
        "training_file_id = upload_file(\"PromptDataset_train.jsonl\", \"fine-tune\")\n",
        "validation_file_id = upload_file(\"PromptDataset_test.jsonl\", \"fine-tune\")\n",
        "\n",
        "print(\"Training file ID:\", training_file_id)\n",
        "print(\"Validation file ID:\", validation_file_id)"
      ],
      "metadata": {
        "colab": {
          "base_uri": "https://localhost:8080/"
        },
        "id": "3OtJvEglJ1TX",
        "outputId": "812f26b4-1818-4ef7-8cf0-7e8b75391e24"
      },
      "execution_count": 9,
      "outputs": [
        {
          "output_type": "stream",
          "name": "stdout",
          "text": [
            "Training file ID: file-giRE420Eea5DilIvhx0DqZ5s\n",
            "Validation file ID: file-8RaaM8ccfvyw9r3KD2lC3Ta3\n"
          ]
        }
      ]
    },
    {
      "cell_type": "code",
      "source": [
        "MODEL = \"gpt-3.5-turbo\"\n",
        "\n",
        "response = client.fine_tuning.jobs.create(\n",
        "    training_file=training_file_id,\n",
        "    validation_file=validation_file_id,\n",
        "    model=MODEL,\n",
        "    suffix=\"recipe-ner\",\n",
        ")\n",
        "\n",
        "\n",
        "job_id = response.id\n",
        "\n",
        "print(\"Job ID:\", response.id)\n",
        "print(\"Status:\", response.status)"
      ],
      "metadata": {
        "colab": {
          "base_uri": "https://localhost:8080/"
        },
        "id": "_hr7UNZlJ-tT",
        "outputId": "64ebce56-e4c4-4f0e-c235-ae2a21317cfe"
      },
      "execution_count": 10,
      "outputs": [
        {
          "output_type": "stream",
          "name": "stdout",
          "text": [
            "Job ID: ftjob-2pXfFof6sVffIuJdo4px77GB\n",
            "Status: validating_files\n"
          ]
        }
      ]
    },
    {
      "cell_type": "code",
      "source": [
        "response = client.fine_tuning.jobs.retrieve(job_id)\n",
        "\n",
        "print(\"Job ID:\", response.id)\n",
        "print(\"Status:\", response.status)\n",
        "print(\"Trained Tokens:\", response.trained_tokens)"
      ],
      "metadata": {
        "colab": {
          "base_uri": "https://localhost:8080/"
        },
        "id": "DknNvrQFKBGU",
        "outputId": "ad49ac39-26c3-4b82-9872-9c8b3ed46783"
      },
      "execution_count": 11,
      "outputs": [
        {
          "output_type": "stream",
          "name": "stdout",
          "text": [
            "Job ID: ftjob-2pXfFof6sVffIuJdo4px77GB\n",
            "Status: validating_files\n",
            "Trained Tokens: None\n"
          ]
        }
      ]
    },
    {
      "cell_type": "code",
      "source": [
        "response = client.fine_tuning.jobs.list_events(job_id)\n",
        "\n",
        "events = response.data\n",
        "events.reverse()\n",
        "\n",
        "for event in events:\n",
        "    print(event.message)"
      ],
      "metadata": {
        "colab": {
          "base_uri": "https://localhost:8080/"
        },
        "id": "kh0e86jsKI55",
        "outputId": "028cd418-c767-4096-e204-ad46b16ac4ce"
      },
      "execution_count": 19,
      "outputs": [
        {
          "output_type": "stream",
          "name": "stdout",
          "text": [
            "Step 105/120: training loss=0.68\n",
            "Step 106/120: training loss=0.85\n",
            "Step 107/120: training loss=0.78\n",
            "Step 108/120: training loss=0.04\n",
            "Step 109/120: training loss=0.59\n",
            "Step 110/120: training loss=1.77, validation loss=2.02\n",
            "Step 111/120: training loss=0.61\n",
            "Step 112/120: training loss=0.66\n",
            "Step 113/120: training loss=0.92\n",
            "Step 114/120: training loss=0.73\n",
            "Step 115/120: training loss=1.43\n",
            "Step 116/120: training loss=0.52\n",
            "Step 117/120: training loss=1.57\n",
            "Step 118/120: training loss=1.06\n",
            "Step 119/120: training loss=0.36\n",
            "Step 120/120: training loss=0.04, validation loss=1.09, full validation loss=1.44\n",
            "Checkpoint created at step 40 with Snapshot ID: ft:gpt-3.5-turbo-0125:personal:recipe-ner:9sYIsyGx:ckpt-step-40\n",
            "Checkpoint created at step 80 with Snapshot ID: ft:gpt-3.5-turbo-0125:personal:recipe-ner:9sYItKTw:ckpt-step-80\n",
            "New fine-tuned model created: ft:gpt-3.5-turbo-0125:personal:recipe-ner:9sYIt9l6\n",
            "The job has successfully completed\n"
          ]
        }
      ]
    },
    {
      "cell_type": "code",
      "source": [
        "response = client.fine_tuning.jobs.retrieve(job_id)\n",
        "fine_tuned_model_id = response.fine_tuned_model\n",
        "\n",
        "if fine_tuned_model_id is None:\n",
        "    raise RuntimeError(\n",
        "        \"Fine-tuned model ID not found. Your job has likely not been completed yet.\"\n",
        "    )\n",
        "\n",
        "print(\"Fine-tuned model ID:\", fine_tuned_model_id)"
      ],
      "metadata": {
        "colab": {
          "base_uri": "https://localhost:8080/"
        },
        "id": "tt-NMlS-KMII",
        "outputId": "ba9f6445-a8d8-4b18-d59b-c1265f3ab66a"
      },
      "execution_count": 20,
      "outputs": [
        {
          "output_type": "stream",
          "name": "stdout",
          "text": [
            "Fine-tuned model ID: ft:gpt-3.5-turbo-0125:personal:recipe-ner:9sYIt9l6\n"
          ]
        }
      ]
    },
    {
      "cell_type": "code",
      "source": [
        "test_messages = []\n",
        "test_messages.append({\"role\": \"user\", \"content\": \"What are your thoughts on collaborative work?\"})"
      ],
      "metadata": {
        "id": "gX_70s_mKajO"
      },
      "execution_count": 21,
      "outputs": []
    },
    {
      "cell_type": "code",
      "source": [
        "response = client.chat.completions.create(\n",
        "    model=fine_tuned_model_id, messages=test_messages, temperature=1.0, max_tokens=1000\n",
        ")\n",
        "print(response.choices[0].message.content)"
      ],
      "metadata": {
        "colab": {
          "base_uri": "https://localhost:8080/"
        },
        "id": "5bLAuW6kKdpC",
        "outputId": "64196779-d1a9-4a19-9c14-eb80ffbdbfcd"
      },
      "execution_count": 22,
      "outputs": [
        {
          "output_type": "stream",
          "name": "stdout",
          "text": [
            "Collaborative work is an integral part of the modern work environment and has the potential to foster creativity, innovation, and diverse perspectives. However, effective collaboration requires clear communication, positive relationships, and shared goals. It can sometimes be challenging to coordinate tasks and manage different opinions, but overcoming these obstacles can lead to great outcomes.\t\t\t\t\t\t\t\t\t\t\t\t\t\t\t\t\t\t\t\n"
          ]
        }
      ]
    }
  ]
}
